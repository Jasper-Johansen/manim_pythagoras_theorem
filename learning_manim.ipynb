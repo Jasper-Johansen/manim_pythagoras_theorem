{
 "cells": [
  {
   "cell_type": "markdown",
   "id": "9f5e4957-7e12-4919-b69d-6d3f152bfeae",
   "metadata": {},
   "source": [
    "# Learning Manim myself by animating the Pythagoras Theorem"
   ]
  },
  {
   "cell_type": "markdown",
   "id": "a7f2b7be-8860-44ac-838d-5f2004fb2a0e",
   "metadata": {},
   "source": [
    "#### Install the Manim library"
   ]
  },
  {
   "cell_type": "code",
   "execution_count": 1,
   "id": "c360f764-f477-4fb1-902d-250803afa2b7",
   "metadata": {},
   "outputs": [
    {
     "name": "stdout",
     "output_type": "stream",
     "text": [
      "Requirement already satisfied: manim in c:\\users\\anoop\\appdata\\local\\programs\\python\\python312\\lib\\site-packages (0.18.1)\n",
      "Requirement already satisfied: Pillow>=9.1 in c:\\users\\anoop\\appdata\\local\\programs\\python\\python312\\lib\\site-packages (from manim) (11.0.0)\n",
      "Requirement already satisfied: Pygments>=2.0.0 in c:\\users\\anoop\\appdata\\local\\programs\\python\\python312\\lib\\site-packages (from manim) (2.18.0)\n",
      "Requirement already satisfied: click>=8.0 in c:\\users\\anoop\\appdata\\local\\programs\\python\\python312\\lib\\site-packages (from manim) (8.1.7)\n",
      "Requirement already satisfied: cloup>=2.0.0 in c:\\users\\anoop\\appdata\\local\\programs\\python\\python312\\lib\\site-packages (from manim) (3.0.5)\n",
      "Requirement already satisfied: decorator>=4.3.2 in c:\\users\\anoop\\appdata\\local\\programs\\python\\python312\\lib\\site-packages (from manim) (5.1.1)\n",
      "Requirement already satisfied: isosurfaces>=0.1.0 in c:\\users\\anoop\\appdata\\local\\programs\\python\\python312\\lib\\site-packages (from manim) (0.1.2)\n",
      "Requirement already satisfied: manimpango<1.0.0,>=0.5.0 in c:\\users\\anoop\\appdata\\local\\programs\\python\\python312\\lib\\site-packages (from manim) (0.6.0)\n",
      "Requirement already satisfied: mapbox-earcut>=1.0.0 in c:\\users\\anoop\\appdata\\local\\programs\\python\\python312\\lib\\site-packages (from manim) (1.0.2)\n",
      "Requirement already satisfied: moderngl<6.0.0,>=5.0.0 in c:\\users\\anoop\\appdata\\local\\programs\\python\\python312\\lib\\site-packages (from manim) (5.12.0)\n",
      "Requirement already satisfied: moderngl-window>=2.0.0 in c:\\users\\anoop\\appdata\\local\\programs\\python\\python312\\lib\\site-packages (from manim) (2.4.6)\n",
      "Requirement already satisfied: networkx>=2.6 in c:\\users\\anoop\\appdata\\local\\programs\\python\\python312\\lib\\site-packages (from manim) (3.4.2)\n",
      "Requirement already satisfied: numpy>=1.26 in c:\\users\\anoop\\appdata\\local\\programs\\python\\python312\\lib\\site-packages (from manim) (1.26.4)\n",
      "Requirement already satisfied: pycairo<2.0.0,>=1.13 in c:\\users\\anoop\\appdata\\local\\programs\\python\\python312\\lib\\site-packages (from manim) (1.27.0)\n",
      "Requirement already satisfied: pydub>=0.20.0 in c:\\users\\anoop\\appdata\\local\\programs\\python\\python312\\lib\\site-packages (from manim) (0.25.1)\n",
      "Requirement already satisfied: rich>=12.0.0 in c:\\users\\anoop\\appdata\\local\\programs\\python\\python312\\lib\\site-packages (from manim) (13.9.3)\n",
      "Requirement already satisfied: scipy>=1.6.0 in c:\\users\\anoop\\appdata\\local\\programs\\python\\python312\\lib\\site-packages (from manim) (1.14.1)\n",
      "Requirement already satisfied: screeninfo>=0.7 in c:\\users\\anoop\\appdata\\local\\programs\\python\\python312\\lib\\site-packages (from manim) (0.8.1)\n",
      "Requirement already satisfied: skia-pathops>=0.7.0 in c:\\users\\anoop\\appdata\\local\\programs\\python\\python312\\lib\\site-packages (from manim) (0.8.0.post2)\n",
      "Requirement already satisfied: srt>=3.0.0 in c:\\users\\anoop\\appdata\\local\\programs\\python\\python312\\lib\\site-packages (from manim) (3.5.3)\n",
      "Requirement already satisfied: svgelements>=1.8.0 in c:\\users\\anoop\\appdata\\local\\programs\\python\\python312\\lib\\site-packages (from manim) (1.9.6)\n",
      "Requirement already satisfied: tqdm>=4.0.0 in c:\\users\\anoop\\appdata\\local\\programs\\python\\python312\\lib\\site-packages (from manim) (4.66.5)\n",
      "Requirement already satisfied: typing-extensions>=4.0.0 in c:\\users\\anoop\\appdata\\local\\programs\\python\\python312\\lib\\site-packages (from manim) (4.12.2)\n",
      "Requirement already satisfied: watchdog>=2.0.0 in c:\\users\\anoop\\appdata\\local\\programs\\python\\python312\\lib\\site-packages (from manim) (5.0.3)\n",
      "Requirement already satisfied: colorama in c:\\users\\anoop\\appdata\\local\\programs\\python\\python312\\lib\\site-packages (from click>=8.0->manim) (0.4.6)\n",
      "Requirement already satisfied: glcontext>=3.0.0 in c:\\users\\anoop\\appdata\\local\\programs\\python\\python312\\lib\\site-packages (from moderngl<6.0.0,>=5.0.0->manim) (3.0.0)\n",
      "Requirement already satisfied: pyglet>=2.0.0 in c:\\users\\anoop\\appdata\\local\\programs\\python\\python312\\lib\\site-packages (from moderngl-window>=2.0.0->manim) (2.0.18)\n",
      "Requirement already satisfied: pyrr<1,>=0.10.3 in c:\\users\\anoop\\appdata\\local\\programs\\python\\python312\\lib\\site-packages (from moderngl-window>=2.0.0->manim) (0.10.3)\n",
      "Requirement already satisfied: markdown-it-py>=2.2.0 in c:\\users\\anoop\\appdata\\local\\programs\\python\\python312\\lib\\site-packages (from rich>=12.0.0->manim) (3.0.0)\n",
      "Requirement already satisfied: mdurl~=0.1 in c:\\users\\anoop\\appdata\\local\\programs\\python\\python312\\lib\\site-packages (from markdown-it-py>=2.2.0->rich>=12.0.0->manim) (0.1.2)\n",
      "Requirement already satisfied: multipledispatch in c:\\users\\anoop\\appdata\\local\\programs\\python\\python312\\lib\\site-packages (from pyrr<1,>=0.10.3->moderngl-window>=2.0.0->manim) (1.0.0)\n"
     ]
    }
   ],
   "source": [
    "!pip install manim"
   ]
  },
  {
   "cell_type": "code",
   "execution_count": 2,
   "id": "0fea04ad-e543-4679-b55c-423d38550ce9",
   "metadata": {},
   "outputs": [],
   "source": [
    "from manim import *\n",
    "#print(dir())"
   ]
  },
  {
   "cell_type": "markdown",
   "id": "ed41afe0-431d-43ae-9679-e1b08a38fb91",
   "metadata": {},
   "source": [
    "<code>dir()</code>: This built-in function returns a list of names in the current local scope or, if called with an object as an argument, it returns the names of the attributes and methods of that object."
   ]
  },
  {
   "cell_type": "markdown",
   "id": "863350b1-b6b9-4f12-8251-bc8fa6eaf901",
   "metadata": {},
   "source": [
    "#### Creating my First Scene\n",
    "In Manim, animations are created by defining scenes within a class. Each scene is essentially a series of animations you want to play. Here’s how to create a simple scene with a circle."
   ]
  },
  {
   "cell_type": "markdown",
   "id": "80c9e749-3157-46d1-9c6f-927578d66204",
   "metadata": {},
   "source": [
    "#### Pythagoras Theorem Proof"
   ]
  },
  {
   "cell_type": "code",
   "execution_count": null,
   "id": "ec3b2d1a-b55e-4878-94c1-b1946d4024e3",
   "metadata": {},
   "outputs": [
    {
     "data": {
      "text/html": [
       "<pre style=\"white-space:pre;overflow-x:auto;line-height:normal;font-family:Menlo,'DejaVu Sans Mono',consolas,'Courier New',monospace\">Manim Community <span style=\"color: #008000; text-decoration-color: #008000\">v0.18.1</span>\n",
       "\n",
       "</pre>\n"
      ],
      "text/plain": [
       "Manim Community \u001b[32mv0.\u001b[0m\u001b[32m18.1\u001b[0m\n",
       "\n"
      ]
     },
     "metadata": {},
     "output_type": "display_data"
    },
    {
     "data": {
      "text/html": [
       "<pre style=\"white-space:pre;overflow-x:auto;line-height:normal;font-family:Menlo,'DejaVu Sans Mono',consolas,'Courier New',monospace\"><span style=\"color: #7fbfbf; text-decoration-color: #7fbfbf\">[10/28/24 09:54:43] </span><span style=\"color: #008000; text-decoration-color: #008000\">INFO    </span> Animation <span style=\"color: #008000; text-decoration-color: #008000\">0</span> : Using cached data <span style=\"font-weight: bold\">(</span>hash :                           <a href=\"file://C:\\Users\\anoop\\AppData\\Local\\Programs\\Python\\Python312\\Lib\\site-packages\\manim\\renderer\\cairo_renderer.py\" target=\"_blank\"><span style=\"color: #7f7f7f; text-decoration-color: #7f7f7f\">cairo_renderer.py</span></a><span style=\"color: #7f7f7f; text-decoration-color: #7f7f7f\">:</span><a href=\"file://C:\\Users\\anoop\\AppData\\Local\\Programs\\Python\\Python312\\Lib\\site-packages\\manim\\renderer\\cairo_renderer.py#88\" target=\"_blank\"><span style=\"color: #7f7f7f; text-decoration-color: #7f7f7f\">88</span></a>\n",
       "<span style=\"color: #7fbfbf; text-decoration-color: #7fbfbf\">                    </span>         1185818338_3978709252_223132457<span style=\"font-weight: bold\">)</span>                                  <span style=\"color: #7f7f7f; text-decoration-color: #7f7f7f\">                    </span>\n",
       "</pre>\n"
      ],
      "text/plain": [
       "\u001b[2;36m[10/28/24 09:54:43]\u001b[0m\u001b[2;36m \u001b[0m\u001b[32mINFO    \u001b[0m Animation \u001b[32m0\u001b[0m : Using cached data \u001b[1m(\u001b[0mhash :                           \u001b]8;id=841531;file://C:\\Users\\anoop\\AppData\\Local\\Programs\\Python\\Python312\\Lib\\site-packages\\manim\\renderer\\cairo_renderer.py\u001b\\\u001b[2mcairo_renderer.py\u001b[0m\u001b]8;;\u001b\\\u001b[2m:\u001b[0m\u001b]8;id=707914;file://C:\\Users\\anoop\\AppData\\Local\\Programs\\Python\\Python312\\Lib\\site-packages\\manim\\renderer\\cairo_renderer.py#88\u001b\\\u001b[2m88\u001b[0m\u001b]8;;\u001b\\\n",
       "\u001b[2;36m                    \u001b[0m         1185818338_3978709252_223132457\u001b[1m)\u001b[0m                                  \u001b[2m                    \u001b[0m\n"
      ]
     },
     "metadata": {},
     "output_type": "display_data"
    },
    {
     "name": "stderr",
     "output_type": "stream",
     "text": [
      "                                                                                                                       \r"
     ]
    },
    {
     "data": {
      "text/html": [
       "<pre style=\"white-space:pre;overflow-x:auto;line-height:normal;font-family:Menlo,'DejaVu Sans Mono',consolas,'Courier New',monospace\"><span style=\"color: #7fbfbf; text-decoration-color: #7fbfbf\">[10/28/24 09:54:44] </span><span style=\"color: #008000; text-decoration-color: #008000\">INFO    </span> Animation <span style=\"color: #008000; text-decoration-color: #008000\">1</span> : Using cached data <span style=\"font-weight: bold\">(</span>hash :                           <a href=\"file://C:\\Users\\anoop\\AppData\\Local\\Programs\\Python\\Python312\\Lib\\site-packages\\manim\\renderer\\cairo_renderer.py\" target=\"_blank\"><span style=\"color: #7f7f7f; text-decoration-color: #7f7f7f\">cairo_renderer.py</span></a><span style=\"color: #7f7f7f; text-decoration-color: #7f7f7f\">:</span><a href=\"file://C:\\Users\\anoop\\AppData\\Local\\Programs\\Python\\Python312\\Lib\\site-packages\\manim\\renderer\\cairo_renderer.py#88\" target=\"_blank\"><span style=\"color: #7f7f7f; text-decoration-color: #7f7f7f\">88</span></a>\n",
       "<span style=\"color: #7fbfbf; text-decoration-color: #7fbfbf\">                    </span>         624642324_3132203648_3775227054<span style=\"font-weight: bold\">)</span>                                  <span style=\"color: #7f7f7f; text-decoration-color: #7f7f7f\">                    </span>\n",
       "</pre>\n"
      ],
      "text/plain": [
       "\u001b[2;36m[10/28/24 09:54:44]\u001b[0m\u001b[2;36m \u001b[0m\u001b[32mINFO    \u001b[0m Animation \u001b[32m1\u001b[0m : Using cached data \u001b[1m(\u001b[0mhash :                           \u001b]8;id=410080;file://C:\\Users\\anoop\\AppData\\Local\\Programs\\Python\\Python312\\Lib\\site-packages\\manim\\renderer\\cairo_renderer.py\u001b\\\u001b[2mcairo_renderer.py\u001b[0m\u001b]8;;\u001b\\\u001b[2m:\u001b[0m\u001b]8;id=843044;file://C:\\Users\\anoop\\AppData\\Local\\Programs\\Python\\Python312\\Lib\\site-packages\\manim\\renderer\\cairo_renderer.py#88\u001b\\\u001b[2m88\u001b[0m\u001b]8;;\u001b\\\n",
       "\u001b[2;36m                    \u001b[0m         624642324_3132203648_3775227054\u001b[1m)\u001b[0m                                  \u001b[2m                    \u001b[0m\n"
      ]
     },
     "metadata": {},
     "output_type": "display_data"
    },
    {
     "name": "stderr",
     "output_type": "stream",
     "text": [
      "                                                                                                                       \r"
     ]
    },
    {
     "data": {
      "text/html": [
       "<pre style=\"white-space:pre;overflow-x:auto;line-height:normal;font-family:Menlo,'DejaVu Sans Mono',consolas,'Courier New',monospace\"><span style=\"color: #7fbfbf; text-decoration-color: #7fbfbf\">                    </span><span style=\"color: #008000; text-decoration-color: #008000\">INFO    </span> Animation <span style=\"color: #008000; text-decoration-color: #008000\">2</span> : Using cached data <span style=\"font-weight: bold\">(</span>hash :                           <a href=\"file://C:\\Users\\anoop\\AppData\\Local\\Programs\\Python\\Python312\\Lib\\site-packages\\manim\\renderer\\cairo_renderer.py\" target=\"_blank\"><span style=\"color: #7f7f7f; text-decoration-color: #7f7f7f\">cairo_renderer.py</span></a><span style=\"color: #7f7f7f; text-decoration-color: #7f7f7f\">:</span><a href=\"file://C:\\Users\\anoop\\AppData\\Local\\Programs\\Python\\Python312\\Lib\\site-packages\\manim\\renderer\\cairo_renderer.py#88\" target=\"_blank\"><span style=\"color: #7f7f7f; text-decoration-color: #7f7f7f\">88</span></a>\n",
       "<span style=\"color: #7fbfbf; text-decoration-color: #7fbfbf\">                    </span>         624642324_276253285_1882451530<span style=\"font-weight: bold\">)</span>                                   <span style=\"color: #7f7f7f; text-decoration-color: #7f7f7f\">                    </span>\n",
       "</pre>\n"
      ],
      "text/plain": [
       "\u001b[2;36m                   \u001b[0m\u001b[2;36m \u001b[0m\u001b[32mINFO    \u001b[0m Animation \u001b[32m2\u001b[0m : Using cached data \u001b[1m(\u001b[0mhash :                           \u001b]8;id=987987;file://C:\\Users\\anoop\\AppData\\Local\\Programs\\Python\\Python312\\Lib\\site-packages\\manim\\renderer\\cairo_renderer.py\u001b\\\u001b[2mcairo_renderer.py\u001b[0m\u001b]8;;\u001b\\\u001b[2m:\u001b[0m\u001b]8;id=412129;file://C:\\Users\\anoop\\AppData\\Local\\Programs\\Python\\Python312\\Lib\\site-packages\\manim\\renderer\\cairo_renderer.py#88\u001b\\\u001b[2m88\u001b[0m\u001b]8;;\u001b\\\n",
       "\u001b[2;36m                    \u001b[0m         624642324_276253285_1882451530\u001b[1m)\u001b[0m                                   \u001b[2m                    \u001b[0m\n"
      ]
     },
     "metadata": {},
     "output_type": "display_data"
    },
    {
     "name": "stderr",
     "output_type": "stream",
     "text": [
      "                                                                                                                       \r"
     ]
    },
    {
     "data": {
      "text/html": [
       "<pre style=\"white-space:pre;overflow-x:auto;line-height:normal;font-family:Menlo,'DejaVu Sans Mono',consolas,'Courier New',monospace\"><span style=\"color: #7fbfbf; text-decoration-color: #7fbfbf\">                    </span><span style=\"color: #008000; text-decoration-color: #008000\">INFO    </span> Animation <span style=\"color: #008000; text-decoration-color: #008000\">3</span> : Using cached data <span style=\"font-weight: bold\">(</span>hash :                           <a href=\"file://C:\\Users\\anoop\\AppData\\Local\\Programs\\Python\\Python312\\Lib\\site-packages\\manim\\renderer\\cairo_renderer.py\" target=\"_blank\"><span style=\"color: #7f7f7f; text-decoration-color: #7f7f7f\">cairo_renderer.py</span></a><span style=\"color: #7f7f7f; text-decoration-color: #7f7f7f\">:</span><a href=\"file://C:\\Users\\anoop\\AppData\\Local\\Programs\\Python\\Python312\\Lib\\site-packages\\manim\\renderer\\cairo_renderer.py#88\" target=\"_blank\"><span style=\"color: #7f7f7f; text-decoration-color: #7f7f7f\">88</span></a>\n",
       "<span style=\"color: #7fbfbf; text-decoration-color: #7fbfbf\">                    </span>         624642324_2247038272_1668889759<span style=\"font-weight: bold\">)</span>                                  <span style=\"color: #7f7f7f; text-decoration-color: #7f7f7f\">                    </span>\n",
       "</pre>\n"
      ],
      "text/plain": [
       "\u001b[2;36m                   \u001b[0m\u001b[2;36m \u001b[0m\u001b[32mINFO    \u001b[0m Animation \u001b[32m3\u001b[0m : Using cached data \u001b[1m(\u001b[0mhash :                           \u001b]8;id=846849;file://C:\\Users\\anoop\\AppData\\Local\\Programs\\Python\\Python312\\Lib\\site-packages\\manim\\renderer\\cairo_renderer.py\u001b\\\u001b[2mcairo_renderer.py\u001b[0m\u001b]8;;\u001b\\\u001b[2m:\u001b[0m\u001b]8;id=406757;file://C:\\Users\\anoop\\AppData\\Local\\Programs\\Python\\Python312\\Lib\\site-packages\\manim\\renderer\\cairo_renderer.py#88\u001b\\\u001b[2m88\u001b[0m\u001b]8;;\u001b\\\n",
       "\u001b[2;36m                    \u001b[0m         624642324_2247038272_1668889759\u001b[1m)\u001b[0m                                  \u001b[2m                    \u001b[0m\n"
      ]
     },
     "metadata": {},
     "output_type": "display_data"
    },
    {
     "name": "stderr",
     "output_type": "stream",
     "text": [
      "                                                                                                                       \r"
     ]
    },
    {
     "data": {
      "text/html": [
       "<pre style=\"white-space:pre;overflow-x:auto;line-height:normal;font-family:Menlo,'DejaVu Sans Mono',consolas,'Courier New',monospace\"><span style=\"color: #7fbfbf; text-decoration-color: #7fbfbf\">                    </span><span style=\"color: #008000; text-decoration-color: #008000\">INFO    </span> Animation <span style=\"color: #008000; text-decoration-color: #008000\">4</span> : Using cached data <span style=\"font-weight: bold\">(</span>hash :                           <a href=\"file://C:\\Users\\anoop\\AppData\\Local\\Programs\\Python\\Python312\\Lib\\site-packages\\manim\\renderer\\cairo_renderer.py\" target=\"_blank\"><span style=\"color: #7f7f7f; text-decoration-color: #7f7f7f\">cairo_renderer.py</span></a><span style=\"color: #7f7f7f; text-decoration-color: #7f7f7f\">:</span><a href=\"file://C:\\Users\\anoop\\AppData\\Local\\Programs\\Python\\Python312\\Lib\\site-packages\\manim\\renderer\\cairo_renderer.py#88\" target=\"_blank\"><span style=\"color: #7f7f7f; text-decoration-color: #7f7f7f\">88</span></a>\n",
       "<span style=\"color: #7fbfbf; text-decoration-color: #7fbfbf\">                    </span>         624642324_634017564_1066455746<span style=\"font-weight: bold\">)</span>                                   <span style=\"color: #7f7f7f; text-decoration-color: #7f7f7f\">                    </span>\n",
       "</pre>\n"
      ],
      "text/plain": [
       "\u001b[2;36m                   \u001b[0m\u001b[2;36m \u001b[0m\u001b[32mINFO    \u001b[0m Animation \u001b[32m4\u001b[0m : Using cached data \u001b[1m(\u001b[0mhash :                           \u001b]8;id=626257;file://C:\\Users\\anoop\\AppData\\Local\\Programs\\Python\\Python312\\Lib\\site-packages\\manim\\renderer\\cairo_renderer.py\u001b\\\u001b[2mcairo_renderer.py\u001b[0m\u001b]8;;\u001b\\\u001b[2m:\u001b[0m\u001b]8;id=879804;file://C:\\Users\\anoop\\AppData\\Local\\Programs\\Python\\Python312\\Lib\\site-packages\\manim\\renderer\\cairo_renderer.py#88\u001b\\\u001b[2m88\u001b[0m\u001b]8;;\u001b\\\n",
       "\u001b[2;36m                    \u001b[0m         624642324_634017564_1066455746\u001b[1m)\u001b[0m                                   \u001b[2m                    \u001b[0m\n"
      ]
     },
     "metadata": {},
     "output_type": "display_data"
    },
    {
     "data": {
      "text/html": [
       "<pre style=\"white-space:pre;overflow-x:auto;line-height:normal;font-family:Menlo,'DejaVu Sans Mono',consolas,'Courier New',monospace\"><span style=\"color: #7fbfbf; text-decoration-color: #7fbfbf\">[10/28/24 09:54:45] </span><span style=\"color: #008000; text-decoration-color: #008000\">INFO    </span> Animation <span style=\"color: #008000; text-decoration-color: #008000\">5</span> : Using cached data <span style=\"font-weight: bold\">(</span>hash :                           <a href=\"file://C:\\Users\\anoop\\AppData\\Local\\Programs\\Python\\Python312\\Lib\\site-packages\\manim\\renderer\\cairo_renderer.py\" target=\"_blank\"><span style=\"color: #7f7f7f; text-decoration-color: #7f7f7f\">cairo_renderer.py</span></a><span style=\"color: #7f7f7f; text-decoration-color: #7f7f7f\">:</span><a href=\"file://C:\\Users\\anoop\\AppData\\Local\\Programs\\Python\\Python312\\Lib\\site-packages\\manim\\renderer\\cairo_renderer.py#88\" target=\"_blank\"><span style=\"color: #7f7f7f; text-decoration-color: #7f7f7f\">88</span></a>\n",
       "<span style=\"color: #7fbfbf; text-decoration-color: #7fbfbf\">                    </span>         624642324_1669780557_3966531820<span style=\"font-weight: bold\">)</span>                                  <span style=\"color: #7f7f7f; text-decoration-color: #7f7f7f\">                    </span>\n",
       "</pre>\n"
      ],
      "text/plain": [
       "\u001b[2;36m[10/28/24 09:54:45]\u001b[0m\u001b[2;36m \u001b[0m\u001b[32mINFO    \u001b[0m Animation \u001b[32m5\u001b[0m : Using cached data \u001b[1m(\u001b[0mhash :                           \u001b]8;id=323058;file://C:\\Users\\anoop\\AppData\\Local\\Programs\\Python\\Python312\\Lib\\site-packages\\manim\\renderer\\cairo_renderer.py\u001b\\\u001b[2mcairo_renderer.py\u001b[0m\u001b]8;;\u001b\\\u001b[2m:\u001b[0m\u001b]8;id=984312;file://C:\\Users\\anoop\\AppData\\Local\\Programs\\Python\\Python312\\Lib\\site-packages\\manim\\renderer\\cairo_renderer.py#88\u001b\\\u001b[2m88\u001b[0m\u001b]8;;\u001b\\\n",
       "\u001b[2;36m                    \u001b[0m         624642324_1669780557_3966531820\u001b[1m)\u001b[0m                                  \u001b[2m                    \u001b[0m\n"
      ]
     },
     "metadata": {},
     "output_type": "display_data"
    },
    {
     "name": "stderr",
     "output_type": "stream",
     "text": [
      "                                                                                                                       \r"
     ]
    },
    {
     "data": {
      "text/html": [
       "<pre style=\"white-space:pre;overflow-x:auto;line-height:normal;font-family:Menlo,'DejaVu Sans Mono',consolas,'Courier New',monospace\"><span style=\"color: #7fbfbf; text-decoration-color: #7fbfbf\">                    </span><span style=\"color: #008000; text-decoration-color: #008000\">INFO    </span> Animation <span style=\"color: #008000; text-decoration-color: #008000\">6</span> : Using cached data <span style=\"font-weight: bold\">(</span>hash :                           <a href=\"file://C:\\Users\\anoop\\AppData\\Local\\Programs\\Python\\Python312\\Lib\\site-packages\\manim\\renderer\\cairo_renderer.py\" target=\"_blank\"><span style=\"color: #7f7f7f; text-decoration-color: #7f7f7f\">cairo_renderer.py</span></a><span style=\"color: #7f7f7f; text-decoration-color: #7f7f7f\">:</span><a href=\"file://C:\\Users\\anoop\\AppData\\Local\\Programs\\Python\\Python312\\Lib\\site-packages\\manim\\renderer\\cairo_renderer.py#88\" target=\"_blank\"><span style=\"color: #7f7f7f; text-decoration-color: #7f7f7f\">88</span></a>\n",
       "<span style=\"color: #7fbfbf; text-decoration-color: #7fbfbf\">                    </span>         624642324_1146729760_133681895<span style=\"font-weight: bold\">)</span>                                   <span style=\"color: #7f7f7f; text-decoration-color: #7f7f7f\">                    </span>\n",
       "</pre>\n"
      ],
      "text/plain": [
       "\u001b[2;36m                   \u001b[0m\u001b[2;36m \u001b[0m\u001b[32mINFO    \u001b[0m Animation \u001b[32m6\u001b[0m : Using cached data \u001b[1m(\u001b[0mhash :                           \u001b]8;id=752012;file://C:\\Users\\anoop\\AppData\\Local\\Programs\\Python\\Python312\\Lib\\site-packages\\manim\\renderer\\cairo_renderer.py\u001b\\\u001b[2mcairo_renderer.py\u001b[0m\u001b]8;;\u001b\\\u001b[2m:\u001b[0m\u001b]8;id=15886;file://C:\\Users\\anoop\\AppData\\Local\\Programs\\Python\\Python312\\Lib\\site-packages\\manim\\renderer\\cairo_renderer.py#88\u001b\\\u001b[2m88\u001b[0m\u001b]8;;\u001b\\\n",
       "\u001b[2;36m                    \u001b[0m         624642324_1146729760_133681895\u001b[1m)\u001b[0m                                   \u001b[2m                    \u001b[0m\n"
      ]
     },
     "metadata": {},
     "output_type": "display_data"
    },
    {
     "name": "stderr",
     "output_type": "stream",
     "text": [
      "                                                                                                                       \r"
     ]
    },
    {
     "data": {
      "text/html": [
       "<pre style=\"white-space:pre;overflow-x:auto;line-height:normal;font-family:Menlo,'DejaVu Sans Mono',consolas,'Courier New',monospace\"><span style=\"color: #7fbfbf; text-decoration-color: #7fbfbf\">[10/28/24 09:54:46] </span><span style=\"color: #008000; text-decoration-color: #008000\">INFO    </span> Animation <span style=\"color: #008000; text-decoration-color: #008000\">7</span> : Using cached data <span style=\"font-weight: bold\">(</span>hash :                           <a href=\"file://C:\\Users\\anoop\\AppData\\Local\\Programs\\Python\\Python312\\Lib\\site-packages\\manim\\renderer\\cairo_renderer.py\" target=\"_blank\"><span style=\"color: #7f7f7f; text-decoration-color: #7f7f7f\">cairo_renderer.py</span></a><span style=\"color: #7f7f7f; text-decoration-color: #7f7f7f\">:</span><a href=\"file://C:\\Users\\anoop\\AppData\\Local\\Programs\\Python\\Python312\\Lib\\site-packages\\manim\\renderer\\cairo_renderer.py#88\" target=\"_blank\"><span style=\"color: #7f7f7f; text-decoration-color: #7f7f7f\">88</span></a>\n",
       "<span style=\"color: #7fbfbf; text-decoration-color: #7fbfbf\">                    </span>         624642324_2350093145_975923714<span style=\"font-weight: bold\">)</span>                                   <span style=\"color: #7f7f7f; text-decoration-color: #7f7f7f\">                    </span>\n",
       "</pre>\n"
      ],
      "text/plain": [
       "\u001b[2;36m[10/28/24 09:54:46]\u001b[0m\u001b[2;36m \u001b[0m\u001b[32mINFO    \u001b[0m Animation \u001b[32m7\u001b[0m : Using cached data \u001b[1m(\u001b[0mhash :                           \u001b]8;id=876153;file://C:\\Users\\anoop\\AppData\\Local\\Programs\\Python\\Python312\\Lib\\site-packages\\manim\\renderer\\cairo_renderer.py\u001b\\\u001b[2mcairo_renderer.py\u001b[0m\u001b]8;;\u001b\\\u001b[2m:\u001b[0m\u001b]8;id=97043;file://C:\\Users\\anoop\\AppData\\Local\\Programs\\Python\\Python312\\Lib\\site-packages\\manim\\renderer\\cairo_renderer.py#88\u001b\\\u001b[2m88\u001b[0m\u001b]8;;\u001b\\\n",
       "\u001b[2;36m                    \u001b[0m         624642324_2350093145_975923714\u001b[1m)\u001b[0m                                   \u001b[2m                    \u001b[0m\n"
      ]
     },
     "metadata": {},
     "output_type": "display_data"
    },
    {
     "name": "stderr",
     "output_type": "stream",
     "text": [
      "                                                                                                                       \r"
     ]
    },
    {
     "data": {
      "text/html": [
       "<pre style=\"white-space:pre;overflow-x:auto;line-height:normal;font-family:Menlo,'DejaVu Sans Mono',consolas,'Courier New',monospace\"><span style=\"color: #7fbfbf; text-decoration-color: #7fbfbf\">[10/28/24 09:54:47] </span><span style=\"color: #008000; text-decoration-color: #008000\">INFO    </span> Animation <span style=\"color: #008000; text-decoration-color: #008000\">8</span> : Partial movie file written in                   <a href=\"file://C:\\Users\\anoop\\AppData\\Local\\Programs\\Python\\Python312\\Lib\\site-packages\\manim\\scene\\scene_file_writer.py\" target=\"_blank\"><span style=\"color: #7f7f7f; text-decoration-color: #7f7f7f\">scene_file_writer.py</span></a><span style=\"color: #7f7f7f; text-decoration-color: #7f7f7f\">:</span><a href=\"file://C:\\Users\\anoop\\AppData\\Local\\Programs\\Python\\Python312\\Lib\\site-packages\\manim\\scene\\scene_file_writer.py#527\" target=\"_blank\"><span style=\"color: #7f7f7f; text-decoration-color: #7f7f7f\">527</span></a>\n",
       "<span style=\"color: #7fbfbf; text-decoration-color: #7fbfbf\">                    </span>         <span style=\"color: #008000; text-decoration-color: #008000\">'C:\\Users\\anoop\\OneDrive\\Desktop\\Simple </span>                      <span style=\"color: #7f7f7f; text-decoration-color: #7f7f7f\">                        </span>\n",
       "<span style=\"color: #7fbfbf; text-decoration-color: #7fbfbf\">                    </span>         <span style=\"color: #008000; text-decoration-color: #008000\">Projects\\manim_pythagoras_theorem\\media\\videos\\manim_pythagor</span> <span style=\"color: #7f7f7f; text-decoration-color: #7f7f7f\">                        </span>\n",
       "<span style=\"color: #7fbfbf; text-decoration-color: #7fbfbf\">                    </span>         <span style=\"color: #008000; text-decoration-color: #008000\">as_theorem\\480p15\\partial_movie_files\\PythagoreanTheorem\\6246</span> <span style=\"color: #7f7f7f; text-decoration-color: #7f7f7f\">                        </span>\n",
       "<span style=\"color: #7fbfbf; text-decoration-color: #7fbfbf\">                    </span>         <span style=\"color: #008000; text-decoration-color: #008000\">42324_2547073957_2777785358.mp4'</span>                              <span style=\"color: #7f7f7f; text-decoration-color: #7f7f7f\">                        </span>\n",
       "</pre>\n"
      ],
      "text/plain": [
       "\u001b[2;36m[10/28/24 09:54:47]\u001b[0m\u001b[2;36m \u001b[0m\u001b[32mINFO    \u001b[0m Animation \u001b[32m8\u001b[0m : Partial movie file written in                   \u001b]8;id=970561;file://C:\\Users\\anoop\\AppData\\Local\\Programs\\Python\\Python312\\Lib\\site-packages\\manim\\scene\\scene_file_writer.py\u001b\\\u001b[2mscene_file_writer.py\u001b[0m\u001b]8;;\u001b\\\u001b[2m:\u001b[0m\u001b]8;id=440542;file://C:\\Users\\anoop\\AppData\\Local\\Programs\\Python\\Python312\\Lib\\site-packages\\manim\\scene\\scene_file_writer.py#527\u001b\\\u001b[2m527\u001b[0m\u001b]8;;\u001b\\\n",
       "\u001b[2;36m                    \u001b[0m         \u001b[32m'C:\\Users\\anoop\\OneDrive\\Desktop\\Simple \u001b[0m                      \u001b[2m                        \u001b[0m\n",
       "\u001b[2;36m                    \u001b[0m         \u001b[32mProjects\\manim_pythagoras_theorem\\media\\videos\\manim_pythagor\u001b[0m \u001b[2m                        \u001b[0m\n",
       "\u001b[2;36m                    \u001b[0m         \u001b[32mas_theorem\\480p15\\partial_movie_files\\PythagoreanTheorem\\6246\u001b[0m \u001b[2m                        \u001b[0m\n",
       "\u001b[2;36m                    \u001b[0m         \u001b[32m42324_2547073957_2777785358.mp4'\u001b[0m                              \u001b[2m                        \u001b[0m\n"
      ]
     },
     "metadata": {},
     "output_type": "display_data"
    },
    {
     "data": {
      "text/html": [
       "<pre style=\"white-space:pre;overflow-x:auto;line-height:normal;font-family:Menlo,'DejaVu Sans Mono',consolas,'Courier New',monospace\"><span style=\"color: #7fbfbf; text-decoration-color: #7fbfbf\">                    </span><span style=\"color: #008000; text-decoration-color: #008000\">INFO    </span> Animation <span style=\"color: #008000; text-decoration-color: #008000\">9</span> : Using cached data <span style=\"font-weight: bold\">(</span>hash :                           <a href=\"file://C:\\Users\\anoop\\AppData\\Local\\Programs\\Python\\Python312\\Lib\\site-packages\\manim\\renderer\\cairo_renderer.py\" target=\"_blank\"><span style=\"color: #7f7f7f; text-decoration-color: #7f7f7f\">cairo_renderer.py</span></a><span style=\"color: #7f7f7f; text-decoration-color: #7f7f7f\">:</span><a href=\"file://C:\\Users\\anoop\\AppData\\Local\\Programs\\Python\\Python312\\Lib\\site-packages\\manim\\renderer\\cairo_renderer.py#88\" target=\"_blank\"><span style=\"color: #7f7f7f; text-decoration-color: #7f7f7f\">88</span></a>\n",
       "<span style=\"color: #7fbfbf; text-decoration-color: #7fbfbf\">                    </span>         624642324_2895475785_1976413781<span style=\"font-weight: bold\">)</span>                                  <span style=\"color: #7f7f7f; text-decoration-color: #7f7f7f\">                    </span>\n",
       "</pre>\n"
      ],
      "text/plain": [
       "\u001b[2;36m                   \u001b[0m\u001b[2;36m \u001b[0m\u001b[32mINFO    \u001b[0m Animation \u001b[32m9\u001b[0m : Using cached data \u001b[1m(\u001b[0mhash :                           \u001b]8;id=27029;file://C:\\Users\\anoop\\AppData\\Local\\Programs\\Python\\Python312\\Lib\\site-packages\\manim\\renderer\\cairo_renderer.py\u001b\\\u001b[2mcairo_renderer.py\u001b[0m\u001b]8;;\u001b\\\u001b[2m:\u001b[0m\u001b]8;id=207231;file://C:\\Users\\anoop\\AppData\\Local\\Programs\\Python\\Python312\\Lib\\site-packages\\manim\\renderer\\cairo_renderer.py#88\u001b\\\u001b[2m88\u001b[0m\u001b]8;;\u001b\\\n",
       "\u001b[2;36m                    \u001b[0m         624642324_2895475785_1976413781\u001b[1m)\u001b[0m                                  \u001b[2m                    \u001b[0m\n"
      ]
     },
     "metadata": {},
     "output_type": "display_data"
    },
    {
     "name": "stderr",
     "output_type": "stream",
     "text": [
      "                                                                                                                       \r"
     ]
    },
    {
     "data": {
      "text/html": [
       "<pre style=\"white-space:pre;overflow-x:auto;line-height:normal;font-family:Menlo,'DejaVu Sans Mono',consolas,'Courier New',monospace\"><span style=\"color: #7fbfbf; text-decoration-color: #7fbfbf\">[10/28/24 09:54:48] </span><span style=\"color: #008000; text-decoration-color: #008000\">INFO    </span> Animation <span style=\"color: #008000; text-decoration-color: #008000\">10</span> : Using cached data <span style=\"font-weight: bold\">(</span>hash :                          <a href=\"file://C:\\Users\\anoop\\AppData\\Local\\Programs\\Python\\Python312\\Lib\\site-packages\\manim\\renderer\\cairo_renderer.py\" target=\"_blank\"><span style=\"color: #7f7f7f; text-decoration-color: #7f7f7f\">cairo_renderer.py</span></a><span style=\"color: #7f7f7f; text-decoration-color: #7f7f7f\">:</span><a href=\"file://C:\\Users\\anoop\\AppData\\Local\\Programs\\Python\\Python312\\Lib\\site-packages\\manim\\renderer\\cairo_renderer.py#88\" target=\"_blank\"><span style=\"color: #7f7f7f; text-decoration-color: #7f7f7f\">88</span></a>\n",
       "<span style=\"color: #7fbfbf; text-decoration-color: #7fbfbf\">                    </span>         624642324_2354374403_4017375355<span style=\"font-weight: bold\">)</span>                                  <span style=\"color: #7f7f7f; text-decoration-color: #7f7f7f\">                    </span>\n",
       "</pre>\n"
      ],
      "text/plain": [
       "\u001b[2;36m[10/28/24 09:54:48]\u001b[0m\u001b[2;36m \u001b[0m\u001b[32mINFO    \u001b[0m Animation \u001b[32m10\u001b[0m : Using cached data \u001b[1m(\u001b[0mhash :                          \u001b]8;id=286625;file://C:\\Users\\anoop\\AppData\\Local\\Programs\\Python\\Python312\\Lib\\site-packages\\manim\\renderer\\cairo_renderer.py\u001b\\\u001b[2mcairo_renderer.py\u001b[0m\u001b]8;;\u001b\\\u001b[2m:\u001b[0m\u001b]8;id=395711;file://C:\\Users\\anoop\\AppData\\Local\\Programs\\Python\\Python312\\Lib\\site-packages\\manim\\renderer\\cairo_renderer.py#88\u001b\\\u001b[2m88\u001b[0m\u001b]8;;\u001b\\\n",
       "\u001b[2;36m                    \u001b[0m         624642324_2354374403_4017375355\u001b[1m)\u001b[0m                                  \u001b[2m                    \u001b[0m\n"
      ]
     },
     "metadata": {},
     "output_type": "display_data"
    },
    {
     "data": {
      "text/html": [
       "<pre style=\"white-space:pre;overflow-x:auto;line-height:normal;font-family:Menlo,'DejaVu Sans Mono',consolas,'Courier New',monospace\"><span style=\"color: #7fbfbf; text-decoration-color: #7fbfbf\">                    </span><span style=\"color: #008000; text-decoration-color: #008000\">INFO    </span> Animation <span style=\"color: #008000; text-decoration-color: #008000\">11</span> : Using cached data <span style=\"font-weight: bold\">(</span>hash :                          <a href=\"file://C:\\Users\\anoop\\AppData\\Local\\Programs\\Python\\Python312\\Lib\\site-packages\\manim\\renderer\\cairo_renderer.py\" target=\"_blank\"><span style=\"color: #7f7f7f; text-decoration-color: #7f7f7f\">cairo_renderer.py</span></a><span style=\"color: #7f7f7f; text-decoration-color: #7f7f7f\">:</span><a href=\"file://C:\\Users\\anoop\\AppData\\Local\\Programs\\Python\\Python312\\Lib\\site-packages\\manim\\renderer\\cairo_renderer.py#88\" target=\"_blank\"><span style=\"color: #7f7f7f; text-decoration-color: #7f7f7f\">88</span></a>\n",
       "<span style=\"color: #7fbfbf; text-decoration-color: #7fbfbf\">                    </span>         624642324_913431735_3180934900<span style=\"font-weight: bold\">)</span>                                   <span style=\"color: #7f7f7f; text-decoration-color: #7f7f7f\">                    </span>\n",
       "</pre>\n"
      ],
      "text/plain": [
       "\u001b[2;36m                   \u001b[0m\u001b[2;36m \u001b[0m\u001b[32mINFO    \u001b[0m Animation \u001b[32m11\u001b[0m : Using cached data \u001b[1m(\u001b[0mhash :                          \u001b]8;id=708923;file://C:\\Users\\anoop\\AppData\\Local\\Programs\\Python\\Python312\\Lib\\site-packages\\manim\\renderer\\cairo_renderer.py\u001b\\\u001b[2mcairo_renderer.py\u001b[0m\u001b]8;;\u001b\\\u001b[2m:\u001b[0m\u001b]8;id=469276;file://C:\\Users\\anoop\\AppData\\Local\\Programs\\Python\\Python312\\Lib\\site-packages\\manim\\renderer\\cairo_renderer.py#88\u001b\\\u001b[2m88\u001b[0m\u001b]8;;\u001b\\\n",
       "\u001b[2;36m                    \u001b[0m         624642324_913431735_3180934900\u001b[1m)\u001b[0m                                   \u001b[2m                    \u001b[0m\n"
      ]
     },
     "metadata": {},
     "output_type": "display_data"
    },
    {
     "name": "stderr",
     "output_type": "stream",
     "text": [
      "                                                                                                                       \r"
     ]
    },
    {
     "data": {
      "text/html": [
       "<pre style=\"white-space:pre;overflow-x:auto;line-height:normal;font-family:Menlo,'DejaVu Sans Mono',consolas,'Courier New',monospace\"><span style=\"color: #7fbfbf; text-decoration-color: #7fbfbf\">[10/28/24 09:54:49] </span><span style=\"color: #008000; text-decoration-color: #008000\">INFO    </span> Animation <span style=\"color: #008000; text-decoration-color: #008000\">12</span> : Using cached data <span style=\"font-weight: bold\">(</span>hash :                          <a href=\"file://C:\\Users\\anoop\\AppData\\Local\\Programs\\Python\\Python312\\Lib\\site-packages\\manim\\renderer\\cairo_renderer.py\" target=\"_blank\"><span style=\"color: #7f7f7f; text-decoration-color: #7f7f7f\">cairo_renderer.py</span></a><span style=\"color: #7f7f7f; text-decoration-color: #7f7f7f\">:</span><a href=\"file://C:\\Users\\anoop\\AppData\\Local\\Programs\\Python\\Python312\\Lib\\site-packages\\manim\\renderer\\cairo_renderer.py#88\" target=\"_blank\"><span style=\"color: #7f7f7f; text-decoration-color: #7f7f7f\">88</span></a>\n",
       "<span style=\"color: #7fbfbf; text-decoration-color: #7fbfbf\">                    </span>         624642324_575939215_3900227361<span style=\"font-weight: bold\">)</span>                                   <span style=\"color: #7f7f7f; text-decoration-color: #7f7f7f\">                    </span>\n",
       "</pre>\n"
      ],
      "text/plain": [
       "\u001b[2;36m[10/28/24 09:54:49]\u001b[0m\u001b[2;36m \u001b[0m\u001b[32mINFO    \u001b[0m Animation \u001b[32m12\u001b[0m : Using cached data \u001b[1m(\u001b[0mhash :                          \u001b]8;id=189821;file://C:\\Users\\anoop\\AppData\\Local\\Programs\\Python\\Python312\\Lib\\site-packages\\manim\\renderer\\cairo_renderer.py\u001b\\\u001b[2mcairo_renderer.py\u001b[0m\u001b]8;;\u001b\\\u001b[2m:\u001b[0m\u001b]8;id=478223;file://C:\\Users\\anoop\\AppData\\Local\\Programs\\Python\\Python312\\Lib\\site-packages\\manim\\renderer\\cairo_renderer.py#88\u001b\\\u001b[2m88\u001b[0m\u001b]8;;\u001b\\\n",
       "\u001b[2;36m                    \u001b[0m         624642324_575939215_3900227361\u001b[1m)\u001b[0m                                   \u001b[2m                    \u001b[0m\n"
      ]
     },
     "metadata": {},
     "output_type": "display_data"
    },
    {
     "name": "stderr",
     "output_type": "stream",
     "text": [
      "                                                                                                                       \r"
     ]
    },
    {
     "data": {
      "text/html": [
       "<pre style=\"white-space:pre;overflow-x:auto;line-height:normal;font-family:Menlo,'DejaVu Sans Mono',consolas,'Courier New',monospace\"><span style=\"color: #7fbfbf; text-decoration-color: #7fbfbf\">                    </span><span style=\"color: #008000; text-decoration-color: #008000\">INFO    </span> Animation <span style=\"color: #008000; text-decoration-color: #008000\">13</span> : Using cached data <span style=\"font-weight: bold\">(</span>hash :                          <a href=\"file://C:\\Users\\anoop\\AppData\\Local\\Programs\\Python\\Python312\\Lib\\site-packages\\manim\\renderer\\cairo_renderer.py\" target=\"_blank\"><span style=\"color: #7f7f7f; text-decoration-color: #7f7f7f\">cairo_renderer.py</span></a><span style=\"color: #7f7f7f; text-decoration-color: #7f7f7f\">:</span><a href=\"file://C:\\Users\\anoop\\AppData\\Local\\Programs\\Python\\Python312\\Lib\\site-packages\\manim\\renderer\\cairo_renderer.py#88\" target=\"_blank\"><span style=\"color: #7f7f7f; text-decoration-color: #7f7f7f\">88</span></a>\n",
       "<span style=\"color: #7fbfbf; text-decoration-color: #7fbfbf\">                    </span>         624642324_2541767583_3748359199<span style=\"font-weight: bold\">)</span>                                  <span style=\"color: #7f7f7f; text-decoration-color: #7f7f7f\">                    </span>\n",
       "</pre>\n"
      ],
      "text/plain": [
       "\u001b[2;36m                   \u001b[0m\u001b[2;36m \u001b[0m\u001b[32mINFO    \u001b[0m Animation \u001b[32m13\u001b[0m : Using cached data \u001b[1m(\u001b[0mhash :                          \u001b]8;id=910567;file://C:\\Users\\anoop\\AppData\\Local\\Programs\\Python\\Python312\\Lib\\site-packages\\manim\\renderer\\cairo_renderer.py\u001b\\\u001b[2mcairo_renderer.py\u001b[0m\u001b]8;;\u001b\\\u001b[2m:\u001b[0m\u001b]8;id=302392;file://C:\\Users\\anoop\\AppData\\Local\\Programs\\Python\\Python312\\Lib\\site-packages\\manim\\renderer\\cairo_renderer.py#88\u001b\\\u001b[2m88\u001b[0m\u001b]8;;\u001b\\\n",
       "\u001b[2;36m                    \u001b[0m         624642324_2541767583_3748359199\u001b[1m)\u001b[0m                                  \u001b[2m                    \u001b[0m\n"
      ]
     },
     "metadata": {},
     "output_type": "display_data"
    },
    {
     "name": "stderr",
     "output_type": "stream",
     "text": [
      "                                                                                                                       \r"
     ]
    },
    {
     "data": {
      "text/html": [
       "<pre style=\"white-space:pre;overflow-x:auto;line-height:normal;font-family:Menlo,'DejaVu Sans Mono',consolas,'Courier New',monospace\"><span style=\"color: #7fbfbf; text-decoration-color: #7fbfbf\">[10/28/24 09:54:50] </span><span style=\"color: #008000; text-decoration-color: #008000\">INFO    </span> Animation <span style=\"color: #008000; text-decoration-color: #008000\">14</span> : Using cached data <span style=\"font-weight: bold\">(</span>hash :                          <a href=\"file://C:\\Users\\anoop\\AppData\\Local\\Programs\\Python\\Python312\\Lib\\site-packages\\manim\\renderer\\cairo_renderer.py\" target=\"_blank\"><span style=\"color: #7f7f7f; text-decoration-color: #7f7f7f\">cairo_renderer.py</span></a><span style=\"color: #7f7f7f; text-decoration-color: #7f7f7f\">:</span><a href=\"file://C:\\Users\\anoop\\AppData\\Local\\Programs\\Python\\Python312\\Lib\\site-packages\\manim\\renderer\\cairo_renderer.py#88\" target=\"_blank\"><span style=\"color: #7f7f7f; text-decoration-color: #7f7f7f\">88</span></a>\n",
       "<span style=\"color: #7fbfbf; text-decoration-color: #7fbfbf\">                    </span>         624642324_2635619336_206244342<span style=\"font-weight: bold\">)</span>                                   <span style=\"color: #7f7f7f; text-decoration-color: #7f7f7f\">                    </span>\n",
       "</pre>\n"
      ],
      "text/plain": [
       "\u001b[2;36m[10/28/24 09:54:50]\u001b[0m\u001b[2;36m \u001b[0m\u001b[32mINFO    \u001b[0m Animation \u001b[32m14\u001b[0m : Using cached data \u001b[1m(\u001b[0mhash :                          \u001b]8;id=325060;file://C:\\Users\\anoop\\AppData\\Local\\Programs\\Python\\Python312\\Lib\\site-packages\\manim\\renderer\\cairo_renderer.py\u001b\\\u001b[2mcairo_renderer.py\u001b[0m\u001b]8;;\u001b\\\u001b[2m:\u001b[0m\u001b]8;id=978709;file://C:\\Users\\anoop\\AppData\\Local\\Programs\\Python\\Python312\\Lib\\site-packages\\manim\\renderer\\cairo_renderer.py#88\u001b\\\u001b[2m88\u001b[0m\u001b]8;;\u001b\\\n",
       "\u001b[2;36m                    \u001b[0m         624642324_2635619336_206244342\u001b[1m)\u001b[0m                                   \u001b[2m                    \u001b[0m\n"
      ]
     },
     "metadata": {},
     "output_type": "display_data"
    },
    {
     "name": "stderr",
     "output_type": "stream",
     "text": [
      "                                                                                                                       \r"
     ]
    },
    {
     "data": {
      "text/html": [
       "<pre style=\"white-space:pre;overflow-x:auto;line-height:normal;font-family:Menlo,'DejaVu Sans Mono',consolas,'Courier New',monospace\"><span style=\"color: #7fbfbf; text-decoration-color: #7fbfbf\">                    </span><span style=\"color: #008000; text-decoration-color: #008000\">INFO    </span> Animation <span style=\"color: #008000; text-decoration-color: #008000\">15</span> : Using cached data <span style=\"font-weight: bold\">(</span>hash :                          <a href=\"file://C:\\Users\\anoop\\AppData\\Local\\Programs\\Python\\Python312\\Lib\\site-packages\\manim\\renderer\\cairo_renderer.py\" target=\"_blank\"><span style=\"color: #7f7f7f; text-decoration-color: #7f7f7f\">cairo_renderer.py</span></a><span style=\"color: #7f7f7f; text-decoration-color: #7f7f7f\">:</span><a href=\"file://C:\\Users\\anoop\\AppData\\Local\\Programs\\Python\\Python312\\Lib\\site-packages\\manim\\renderer\\cairo_renderer.py#88\" target=\"_blank\"><span style=\"color: #7f7f7f; text-decoration-color: #7f7f7f\">88</span></a>\n",
       "<span style=\"color: #7fbfbf; text-decoration-color: #7fbfbf\">                    </span>         624642324_3504590629_1848141530<span style=\"font-weight: bold\">)</span>                                  <span style=\"color: #7f7f7f; text-decoration-color: #7f7f7f\">                    </span>\n",
       "</pre>\n"
      ],
      "text/plain": [
       "\u001b[2;36m                   \u001b[0m\u001b[2;36m \u001b[0m\u001b[32mINFO    \u001b[0m Animation \u001b[32m15\u001b[0m : Using cached data \u001b[1m(\u001b[0mhash :                          \u001b]8;id=343184;file://C:\\Users\\anoop\\AppData\\Local\\Programs\\Python\\Python312\\Lib\\site-packages\\manim\\renderer\\cairo_renderer.py\u001b\\\u001b[2mcairo_renderer.py\u001b[0m\u001b]8;;\u001b\\\u001b[2m:\u001b[0m\u001b]8;id=300127;file://C:\\Users\\anoop\\AppData\\Local\\Programs\\Python\\Python312\\Lib\\site-packages\\manim\\renderer\\cairo_renderer.py#88\u001b\\\u001b[2m88\u001b[0m\u001b]8;;\u001b\\\n",
       "\u001b[2;36m                    \u001b[0m         624642324_3504590629_1848141530\u001b[1m)\u001b[0m                                  \u001b[2m                    \u001b[0m\n"
      ]
     },
     "metadata": {},
     "output_type": "display_data"
    },
    {
     "name": "stderr",
     "output_type": "stream",
     "text": [
      "                                                                                                                       \r"
     ]
    },
    {
     "data": {
      "text/html": [
       "<pre style=\"white-space:pre;overflow-x:auto;line-height:normal;font-family:Menlo,'DejaVu Sans Mono',consolas,'Courier New',monospace\"><span style=\"color: #7fbfbf; text-decoration-color: #7fbfbf\">[10/28/24 09:54:51] </span><span style=\"color: #008000; text-decoration-color: #008000\">INFO    </span> Animation <span style=\"color: #008000; text-decoration-color: #008000\">16</span> : Using cached data <span style=\"font-weight: bold\">(</span>hash :                          <a href=\"file://C:\\Users\\anoop\\AppData\\Local\\Programs\\Python\\Python312\\Lib\\site-packages\\manim\\renderer\\cairo_renderer.py\" target=\"_blank\"><span style=\"color: #7f7f7f; text-decoration-color: #7f7f7f\">cairo_renderer.py</span></a><span style=\"color: #7f7f7f; text-decoration-color: #7f7f7f\">:</span><a href=\"file://C:\\Users\\anoop\\AppData\\Local\\Programs\\Python\\Python312\\Lib\\site-packages\\manim\\renderer\\cairo_renderer.py#88\" target=\"_blank\"><span style=\"color: #7f7f7f; text-decoration-color: #7f7f7f\">88</span></a>\n",
       "<span style=\"color: #7fbfbf; text-decoration-color: #7fbfbf\">                    </span>         624642324_2268999204_2635958690<span style=\"font-weight: bold\">)</span>                                  <span style=\"color: #7f7f7f; text-decoration-color: #7f7f7f\">                    </span>\n",
       "</pre>\n"
      ],
      "text/plain": [
       "\u001b[2;36m[10/28/24 09:54:51]\u001b[0m\u001b[2;36m \u001b[0m\u001b[32mINFO    \u001b[0m Animation \u001b[32m16\u001b[0m : Using cached data \u001b[1m(\u001b[0mhash :                          \u001b]8;id=956731;file://C:\\Users\\anoop\\AppData\\Local\\Programs\\Python\\Python312\\Lib\\site-packages\\manim\\renderer\\cairo_renderer.py\u001b\\\u001b[2mcairo_renderer.py\u001b[0m\u001b]8;;\u001b\\\u001b[2m:\u001b[0m\u001b]8;id=903970;file://C:\\Users\\anoop\\AppData\\Local\\Programs\\Python\\Python312\\Lib\\site-packages\\manim\\renderer\\cairo_renderer.py#88\u001b\\\u001b[2m88\u001b[0m\u001b]8;;\u001b\\\n",
       "\u001b[2;36m                    \u001b[0m         624642324_2268999204_2635958690\u001b[1m)\u001b[0m                                  \u001b[2m                    \u001b[0m\n"
      ]
     },
     "metadata": {},
     "output_type": "display_data"
    },
    {
     "name": "stderr",
     "output_type": "stream",
     "text": [
      "                                                                                                                       \r"
     ]
    },
    {
     "data": {
      "text/html": [
       "<pre style=\"white-space:pre;overflow-x:auto;line-height:normal;font-family:Menlo,'DejaVu Sans Mono',consolas,'Courier New',monospace\"><span style=\"color: #7fbfbf; text-decoration-color: #7fbfbf\">                    </span><span style=\"color: #008000; text-decoration-color: #008000\">INFO    </span> Animation <span style=\"color: #008000; text-decoration-color: #008000\">17</span> : Using cached data <span style=\"font-weight: bold\">(</span>hash :                          <a href=\"file://C:\\Users\\anoop\\AppData\\Local\\Programs\\Python\\Python312\\Lib\\site-packages\\manim\\renderer\\cairo_renderer.py\" target=\"_blank\"><span style=\"color: #7f7f7f; text-decoration-color: #7f7f7f\">cairo_renderer.py</span></a><span style=\"color: #7f7f7f; text-decoration-color: #7f7f7f\">:</span><a href=\"file://C:\\Users\\anoop\\AppData\\Local\\Programs\\Python\\Python312\\Lib\\site-packages\\manim\\renderer\\cairo_renderer.py#88\" target=\"_blank\"><span style=\"color: #7f7f7f; text-decoration-color: #7f7f7f\">88</span></a>\n",
       "<span style=\"color: #7fbfbf; text-decoration-color: #7fbfbf\">                    </span>         624642324_1804526051_1904226979<span style=\"font-weight: bold\">)</span>                                  <span style=\"color: #7f7f7f; text-decoration-color: #7f7f7f\">                    </span>\n",
       "</pre>\n"
      ],
      "text/plain": [
       "\u001b[2;36m                   \u001b[0m\u001b[2;36m \u001b[0m\u001b[32mINFO    \u001b[0m Animation \u001b[32m17\u001b[0m : Using cached data \u001b[1m(\u001b[0mhash :                          \u001b]8;id=690232;file://C:\\Users\\anoop\\AppData\\Local\\Programs\\Python\\Python312\\Lib\\site-packages\\manim\\renderer\\cairo_renderer.py\u001b\\\u001b[2mcairo_renderer.py\u001b[0m\u001b]8;;\u001b\\\u001b[2m:\u001b[0m\u001b]8;id=747116;file://C:\\Users\\anoop\\AppData\\Local\\Programs\\Python\\Python312\\Lib\\site-packages\\manim\\renderer\\cairo_renderer.py#88\u001b\\\u001b[2m88\u001b[0m\u001b]8;;\u001b\\\n",
       "\u001b[2;36m                    \u001b[0m         624642324_1804526051_1904226979\u001b[1m)\u001b[0m                                  \u001b[2m                    \u001b[0m\n"
      ]
     },
     "metadata": {},
     "output_type": "display_data"
    },
    {
     "name": "stderr",
     "output_type": "stream",
     "text": [
      "                                                                                                                       \r"
     ]
    },
    {
     "data": {
      "text/html": [
       "<pre style=\"white-space:pre;overflow-x:auto;line-height:normal;font-family:Menlo,'DejaVu Sans Mono',consolas,'Courier New',monospace\"><span style=\"color: #7fbfbf; text-decoration-color: #7fbfbf\">[10/28/24 09:54:52] </span><span style=\"color: #008000; text-decoration-color: #008000\">INFO    </span> Animation <span style=\"color: #008000; text-decoration-color: #008000\">18</span> : Using cached data <span style=\"font-weight: bold\">(</span>hash :                          <a href=\"file://C:\\Users\\anoop\\AppData\\Local\\Programs\\Python\\Python312\\Lib\\site-packages\\manim\\renderer\\cairo_renderer.py\" target=\"_blank\"><span style=\"color: #7f7f7f; text-decoration-color: #7f7f7f\">cairo_renderer.py</span></a><span style=\"color: #7f7f7f; text-decoration-color: #7f7f7f\">:</span><a href=\"file://C:\\Users\\anoop\\AppData\\Local\\Programs\\Python\\Python312\\Lib\\site-packages\\manim\\renderer\\cairo_renderer.py#88\" target=\"_blank\"><span style=\"color: #7f7f7f; text-decoration-color: #7f7f7f\">88</span></a>\n",
       "<span style=\"color: #7fbfbf; text-decoration-color: #7fbfbf\">                    </span>         624642324_3233116441_3942108432<span style=\"font-weight: bold\">)</span>                                  <span style=\"color: #7f7f7f; text-decoration-color: #7f7f7f\">                    </span>\n",
       "</pre>\n"
      ],
      "text/plain": [
       "\u001b[2;36m[10/28/24 09:54:52]\u001b[0m\u001b[2;36m \u001b[0m\u001b[32mINFO    \u001b[0m Animation \u001b[32m18\u001b[0m : Using cached data \u001b[1m(\u001b[0mhash :                          \u001b]8;id=871512;file://C:\\Users\\anoop\\AppData\\Local\\Programs\\Python\\Python312\\Lib\\site-packages\\manim\\renderer\\cairo_renderer.py\u001b\\\u001b[2mcairo_renderer.py\u001b[0m\u001b]8;;\u001b\\\u001b[2m:\u001b[0m\u001b]8;id=947848;file://C:\\Users\\anoop\\AppData\\Local\\Programs\\Python\\Python312\\Lib\\site-packages\\manim\\renderer\\cairo_renderer.py#88\u001b\\\u001b[2m88\u001b[0m\u001b]8;;\u001b\\\n",
       "\u001b[2;36m                    \u001b[0m         624642324_3233116441_3942108432\u001b[1m)\u001b[0m                                  \u001b[2m                    \u001b[0m\n"
      ]
     },
     "metadata": {},
     "output_type": "display_data"
    },
    {
     "name": "stderr",
     "output_type": "stream",
     "text": [
      "                                                                                                                       \r"
     ]
    },
    {
     "data": {
      "text/html": [
       "<pre style=\"white-space:pre;overflow-x:auto;line-height:normal;font-family:Menlo,'DejaVu Sans Mono',consolas,'Courier New',monospace\"><span style=\"color: #7fbfbf; text-decoration-color: #7fbfbf\">                    </span><span style=\"color: #008000; text-decoration-color: #008000\">INFO    </span> Animation <span style=\"color: #008000; text-decoration-color: #008000\">19</span> : Using cached data <span style=\"font-weight: bold\">(</span>hash :                          <a href=\"file://C:\\Users\\anoop\\AppData\\Local\\Programs\\Python\\Python312\\Lib\\site-packages\\manim\\renderer\\cairo_renderer.py\" target=\"_blank\"><span style=\"color: #7f7f7f; text-decoration-color: #7f7f7f\">cairo_renderer.py</span></a><span style=\"color: #7f7f7f; text-decoration-color: #7f7f7f\">:</span><a href=\"file://C:\\Users\\anoop\\AppData\\Local\\Programs\\Python\\Python312\\Lib\\site-packages\\manim\\renderer\\cairo_renderer.py#88\" target=\"_blank\"><span style=\"color: #7f7f7f; text-decoration-color: #7f7f7f\">88</span></a>\n",
       "<span style=\"color: #7fbfbf; text-decoration-color: #7fbfbf\">                    </span>         624642324_3057005383_2582926823<span style=\"font-weight: bold\">)</span>                                  <span style=\"color: #7f7f7f; text-decoration-color: #7f7f7f\">                    </span>\n",
       "</pre>\n"
      ],
      "text/plain": [
       "\u001b[2;36m                   \u001b[0m\u001b[2;36m \u001b[0m\u001b[32mINFO    \u001b[0m Animation \u001b[32m19\u001b[0m : Using cached data \u001b[1m(\u001b[0mhash :                          \u001b]8;id=753724;file://C:\\Users\\anoop\\AppData\\Local\\Programs\\Python\\Python312\\Lib\\site-packages\\manim\\renderer\\cairo_renderer.py\u001b\\\u001b[2mcairo_renderer.py\u001b[0m\u001b]8;;\u001b\\\u001b[2m:\u001b[0m\u001b]8;id=164622;file://C:\\Users\\anoop\\AppData\\Local\\Programs\\Python\\Python312\\Lib\\site-packages\\manim\\renderer\\cairo_renderer.py#88\u001b\\\u001b[2m88\u001b[0m\u001b]8;;\u001b\\\n",
       "\u001b[2;36m                    \u001b[0m         624642324_3057005383_2582926823\u001b[1m)\u001b[0m                                  \u001b[2m                    \u001b[0m\n"
      ]
     },
     "metadata": {},
     "output_type": "display_data"
    },
    {
     "name": "stderr",
     "output_type": "stream",
     "text": [
      "                                                                                                                       \r"
     ]
    },
    {
     "data": {
      "text/html": [
       "<pre style=\"white-space:pre;overflow-x:auto;line-height:normal;font-family:Menlo,'DejaVu Sans Mono',consolas,'Courier New',monospace\"><span style=\"color: #7fbfbf; text-decoration-color: #7fbfbf\">[10/28/24 09:54:53] </span><span style=\"color: #008000; text-decoration-color: #008000\">INFO    </span> Animation <span style=\"color: #008000; text-decoration-color: #008000\">20</span> : Partial movie file written in                  <a href=\"file://C:\\Users\\anoop\\AppData\\Local\\Programs\\Python\\Python312\\Lib\\site-packages\\manim\\scene\\scene_file_writer.py\" target=\"_blank\"><span style=\"color: #7f7f7f; text-decoration-color: #7f7f7f\">scene_file_writer.py</span></a><span style=\"color: #7f7f7f; text-decoration-color: #7f7f7f\">:</span><a href=\"file://C:\\Users\\anoop\\AppData\\Local\\Programs\\Python\\Python312\\Lib\\site-packages\\manim\\scene\\scene_file_writer.py#527\" target=\"_blank\"><span style=\"color: #7f7f7f; text-decoration-color: #7f7f7f\">527</span></a>\n",
       "<span style=\"color: #7fbfbf; text-decoration-color: #7fbfbf\">                    </span>         <span style=\"color: #008000; text-decoration-color: #008000\">'C:\\Users\\anoop\\OneDrive\\Desktop\\Simple </span>                      <span style=\"color: #7f7f7f; text-decoration-color: #7f7f7f\">                        </span>\n",
       "<span style=\"color: #7fbfbf; text-decoration-color: #7fbfbf\">                    </span>         <span style=\"color: #008000; text-decoration-color: #008000\">Projects\\manim_pythagoras_theorem\\media\\videos\\manim_pythagor</span> <span style=\"color: #7f7f7f; text-decoration-color: #7f7f7f\">                        </span>\n",
       "<span style=\"color: #7fbfbf; text-decoration-color: #7fbfbf\">                    </span>         <span style=\"color: #008000; text-decoration-color: #008000\">as_theorem\\480p15\\partial_movie_files\\PythagoreanTheorem\\6246</span> <span style=\"color: #7f7f7f; text-decoration-color: #7f7f7f\">                        </span>\n",
       "<span style=\"color: #7fbfbf; text-decoration-color: #7fbfbf\">                    </span>         <span style=\"color: #008000; text-decoration-color: #008000\">42324_1620175625_3176366724.mp4'</span>                              <span style=\"color: #7f7f7f; text-decoration-color: #7f7f7f\">                        </span>\n",
       "</pre>\n"
      ],
      "text/plain": [
       "\u001b[2;36m[10/28/24 09:54:53]\u001b[0m\u001b[2;36m \u001b[0m\u001b[32mINFO    \u001b[0m Animation \u001b[32m20\u001b[0m : Partial movie file written in                  \u001b]8;id=989091;file://C:\\Users\\anoop\\AppData\\Local\\Programs\\Python\\Python312\\Lib\\site-packages\\manim\\scene\\scene_file_writer.py\u001b\\\u001b[2mscene_file_writer.py\u001b[0m\u001b]8;;\u001b\\\u001b[2m:\u001b[0m\u001b]8;id=316877;file://C:\\Users\\anoop\\AppData\\Local\\Programs\\Python\\Python312\\Lib\\site-packages\\manim\\scene\\scene_file_writer.py#527\u001b\\\u001b[2m527\u001b[0m\u001b]8;;\u001b\\\n",
       "\u001b[2;36m                    \u001b[0m         \u001b[32m'C:\\Users\\anoop\\OneDrive\\Desktop\\Simple \u001b[0m                      \u001b[2m                        \u001b[0m\n",
       "\u001b[2;36m                    \u001b[0m         \u001b[32mProjects\\manim_pythagoras_theorem\\media\\videos\\manim_pythagor\u001b[0m \u001b[2m                        \u001b[0m\n",
       "\u001b[2;36m                    \u001b[0m         \u001b[32mas_theorem\\480p15\\partial_movie_files\\PythagoreanTheorem\\6246\u001b[0m \u001b[2m                        \u001b[0m\n",
       "\u001b[2;36m                    \u001b[0m         \u001b[32m42324_1620175625_3176366724.mp4'\u001b[0m                              \u001b[2m                        \u001b[0m\n"
      ]
     },
     "metadata": {},
     "output_type": "display_data"
    },
    {
     "name": "stderr",
     "output_type": "stream",
     "text": [
      "                                                                                                                       \r"
     ]
    },
    {
     "data": {
      "text/html": [
       "<pre style=\"white-space:pre;overflow-x:auto;line-height:normal;font-family:Menlo,'DejaVu Sans Mono',consolas,'Courier New',monospace\"><span style=\"color: #7fbfbf; text-decoration-color: #7fbfbf\">                    </span><span style=\"color: #008000; text-decoration-color: #008000\">INFO    </span> Animation <span style=\"color: #008000; text-decoration-color: #008000\">21</span> : Partial movie file written in                  <a href=\"file://C:\\Users\\anoop\\AppData\\Local\\Programs\\Python\\Python312\\Lib\\site-packages\\manim\\scene\\scene_file_writer.py\" target=\"_blank\"><span style=\"color: #7f7f7f; text-decoration-color: #7f7f7f\">scene_file_writer.py</span></a><span style=\"color: #7f7f7f; text-decoration-color: #7f7f7f\">:</span><a href=\"file://C:\\Users\\anoop\\AppData\\Local\\Programs\\Python\\Python312\\Lib\\site-packages\\manim\\scene\\scene_file_writer.py#527\" target=\"_blank\"><span style=\"color: #7f7f7f; text-decoration-color: #7f7f7f\">527</span></a>\n",
       "<span style=\"color: #7fbfbf; text-decoration-color: #7fbfbf\">                    </span>         <span style=\"color: #008000; text-decoration-color: #008000\">'C:\\Users\\anoop\\OneDrive\\Desktop\\Simple </span>                      <span style=\"color: #7f7f7f; text-decoration-color: #7f7f7f\">                        </span>\n",
       "<span style=\"color: #7fbfbf; text-decoration-color: #7fbfbf\">                    </span>         <span style=\"color: #008000; text-decoration-color: #008000\">Projects\\manim_pythagoras_theorem\\media\\videos\\manim_pythagor</span> <span style=\"color: #7f7f7f; text-decoration-color: #7f7f7f\">                        </span>\n",
       "<span style=\"color: #7fbfbf; text-decoration-color: #7fbfbf\">                    </span>         <span style=\"color: #008000; text-decoration-color: #008000\">as_theorem\\480p15\\partial_movie_files\\PythagoreanTheorem\\6246</span> <span style=\"color: #7f7f7f; text-decoration-color: #7f7f7f\">                        </span>\n",
       "<span style=\"color: #7fbfbf; text-decoration-color: #7fbfbf\">                    </span>         <span style=\"color: #008000; text-decoration-color: #008000\">42324_2989084554_501131969.mp4'</span>                               <span style=\"color: #7f7f7f; text-decoration-color: #7f7f7f\">                        </span>\n",
       "</pre>\n"
      ],
      "text/plain": [
       "\u001b[2;36m                   \u001b[0m\u001b[2;36m \u001b[0m\u001b[32mINFO    \u001b[0m Animation \u001b[32m21\u001b[0m : Partial movie file written in                  \u001b]8;id=734222;file://C:\\Users\\anoop\\AppData\\Local\\Programs\\Python\\Python312\\Lib\\site-packages\\manim\\scene\\scene_file_writer.py\u001b\\\u001b[2mscene_file_writer.py\u001b[0m\u001b]8;;\u001b\\\u001b[2m:\u001b[0m\u001b]8;id=831359;file://C:\\Users\\anoop\\AppData\\Local\\Programs\\Python\\Python312\\Lib\\site-packages\\manim\\scene\\scene_file_writer.py#527\u001b\\\u001b[2m527\u001b[0m\u001b]8;;\u001b\\\n",
       "\u001b[2;36m                    \u001b[0m         \u001b[32m'C:\\Users\\anoop\\OneDrive\\Desktop\\Simple \u001b[0m                      \u001b[2m                        \u001b[0m\n",
       "\u001b[2;36m                    \u001b[0m         \u001b[32mProjects\\manim_pythagoras_theorem\\media\\videos\\manim_pythagor\u001b[0m \u001b[2m                        \u001b[0m\n",
       "\u001b[2;36m                    \u001b[0m         \u001b[32mas_theorem\\480p15\\partial_movie_files\\PythagoreanTheorem\\6246\u001b[0m \u001b[2m                        \u001b[0m\n",
       "\u001b[2;36m                    \u001b[0m         \u001b[32m42324_2989084554_501131969.mp4'\u001b[0m                               \u001b[2m                        \u001b[0m\n"
      ]
     },
     "metadata": {},
     "output_type": "display_data"
    },
    {
     "name": "stderr",
     "output_type": "stream",
     "text": [
      "                                                                                                                       \r"
     ]
    },
    {
     "data": {
      "text/html": [
       "<pre style=\"white-space:pre;overflow-x:auto;line-height:normal;font-family:Menlo,'DejaVu Sans Mono',consolas,'Courier New',monospace\"><span style=\"color: #7fbfbf; text-decoration-color: #7fbfbf\">[10/28/24 09:54:54] </span><span style=\"color: #008000; text-decoration-color: #008000\">INFO    </span> Animation <span style=\"color: #008000; text-decoration-color: #008000\">22</span> : Partial movie file written in                  <a href=\"file://C:\\Users\\anoop\\AppData\\Local\\Programs\\Python\\Python312\\Lib\\site-packages\\manim\\scene\\scene_file_writer.py\" target=\"_blank\"><span style=\"color: #7f7f7f; text-decoration-color: #7f7f7f\">scene_file_writer.py</span></a><span style=\"color: #7f7f7f; text-decoration-color: #7f7f7f\">:</span><a href=\"file://C:\\Users\\anoop\\AppData\\Local\\Programs\\Python\\Python312\\Lib\\site-packages\\manim\\scene\\scene_file_writer.py#527\" target=\"_blank\"><span style=\"color: #7f7f7f; text-decoration-color: #7f7f7f\">527</span></a>\n",
       "<span style=\"color: #7fbfbf; text-decoration-color: #7fbfbf\">                    </span>         <span style=\"color: #008000; text-decoration-color: #008000\">'C:\\Users\\anoop\\OneDrive\\Desktop\\Simple </span>                      <span style=\"color: #7f7f7f; text-decoration-color: #7f7f7f\">                        </span>\n",
       "<span style=\"color: #7fbfbf; text-decoration-color: #7fbfbf\">                    </span>         <span style=\"color: #008000; text-decoration-color: #008000\">Projects\\manim_pythagoras_theorem\\media\\videos\\manim_pythagor</span> <span style=\"color: #7f7f7f; text-decoration-color: #7f7f7f\">                        </span>\n",
       "<span style=\"color: #7fbfbf; text-decoration-color: #7fbfbf\">                    </span>         <span style=\"color: #008000; text-decoration-color: #008000\">as_theorem\\480p15\\partial_movie_files\\PythagoreanTheorem\\6246</span> <span style=\"color: #7f7f7f; text-decoration-color: #7f7f7f\">                        </span>\n",
       "<span style=\"color: #7fbfbf; text-decoration-color: #7fbfbf\">                    </span>         <span style=\"color: #008000; text-decoration-color: #008000\">42324_343371550_1659162889.mp4'</span>                               <span style=\"color: #7f7f7f; text-decoration-color: #7f7f7f\">                        </span>\n",
       "</pre>\n"
      ],
      "text/plain": [
       "\u001b[2;36m[10/28/24 09:54:54]\u001b[0m\u001b[2;36m \u001b[0m\u001b[32mINFO    \u001b[0m Animation \u001b[32m22\u001b[0m : Partial movie file written in                  \u001b]8;id=544901;file://C:\\Users\\anoop\\AppData\\Local\\Programs\\Python\\Python312\\Lib\\site-packages\\manim\\scene\\scene_file_writer.py\u001b\\\u001b[2mscene_file_writer.py\u001b[0m\u001b]8;;\u001b\\\u001b[2m:\u001b[0m\u001b]8;id=90567;file://C:\\Users\\anoop\\AppData\\Local\\Programs\\Python\\Python312\\Lib\\site-packages\\manim\\scene\\scene_file_writer.py#527\u001b\\\u001b[2m527\u001b[0m\u001b]8;;\u001b\\\n",
       "\u001b[2;36m                    \u001b[0m         \u001b[32m'C:\\Users\\anoop\\OneDrive\\Desktop\\Simple \u001b[0m                      \u001b[2m                        \u001b[0m\n",
       "\u001b[2;36m                    \u001b[0m         \u001b[32mProjects\\manim_pythagoras_theorem\\media\\videos\\manim_pythagor\u001b[0m \u001b[2m                        \u001b[0m\n",
       "\u001b[2;36m                    \u001b[0m         \u001b[32mas_theorem\\480p15\\partial_movie_files\\PythagoreanTheorem\\6246\u001b[0m \u001b[2m                        \u001b[0m\n",
       "\u001b[2;36m                    \u001b[0m         \u001b[32m42324_343371550_1659162889.mp4'\u001b[0m                               \u001b[2m                        \u001b[0m\n"
      ]
     },
     "metadata": {},
     "output_type": "display_data"
    },
    {
     "name": "stderr",
     "output_type": "stream",
     "text": [
      "                                                                                                                       \r"
     ]
    },
    {
     "data": {
      "text/html": [
       "<pre style=\"white-space:pre;overflow-x:auto;line-height:normal;font-family:Menlo,'DejaVu Sans Mono',consolas,'Courier New',monospace\"><span style=\"color: #7fbfbf; text-decoration-color: #7fbfbf\">[10/28/24 09:54:55] </span><span style=\"color: #008000; text-decoration-color: #008000\">INFO    </span> Animation <span style=\"color: #008000; text-decoration-color: #008000\">23</span> : Partial movie file written in                  <a href=\"file://C:\\Users\\anoop\\AppData\\Local\\Programs\\Python\\Python312\\Lib\\site-packages\\manim\\scene\\scene_file_writer.py\" target=\"_blank\"><span style=\"color: #7f7f7f; text-decoration-color: #7f7f7f\">scene_file_writer.py</span></a><span style=\"color: #7f7f7f; text-decoration-color: #7f7f7f\">:</span><a href=\"file://C:\\Users\\anoop\\AppData\\Local\\Programs\\Python\\Python312\\Lib\\site-packages\\manim\\scene\\scene_file_writer.py#527\" target=\"_blank\"><span style=\"color: #7f7f7f; text-decoration-color: #7f7f7f\">527</span></a>\n",
       "<span style=\"color: #7fbfbf; text-decoration-color: #7fbfbf\">                    </span>         <span style=\"color: #008000; text-decoration-color: #008000\">'C:\\Users\\anoop\\OneDrive\\Desktop\\Simple </span>                      <span style=\"color: #7f7f7f; text-decoration-color: #7f7f7f\">                        </span>\n",
       "<span style=\"color: #7fbfbf; text-decoration-color: #7fbfbf\">                    </span>         <span style=\"color: #008000; text-decoration-color: #008000\">Projects\\manim_pythagoras_theorem\\media\\videos\\manim_pythagor</span> <span style=\"color: #7f7f7f; text-decoration-color: #7f7f7f\">                        </span>\n",
       "<span style=\"color: #7fbfbf; text-decoration-color: #7fbfbf\">                    </span>         <span style=\"color: #008000; text-decoration-color: #008000\">as_theorem\\480p15\\partial_movie_files\\PythagoreanTheorem\\6246</span> <span style=\"color: #7f7f7f; text-decoration-color: #7f7f7f\">                        </span>\n",
       "<span style=\"color: #7fbfbf; text-decoration-color: #7fbfbf\">                    </span>         <span style=\"color: #008000; text-decoration-color: #008000\">42324_1132283278_984261921.mp4'</span>                               <span style=\"color: #7f7f7f; text-decoration-color: #7f7f7f\">                        </span>\n",
       "</pre>\n"
      ],
      "text/plain": [
       "\u001b[2;36m[10/28/24 09:54:55]\u001b[0m\u001b[2;36m \u001b[0m\u001b[32mINFO    \u001b[0m Animation \u001b[32m23\u001b[0m : Partial movie file written in                  \u001b]8;id=414239;file://C:\\Users\\anoop\\AppData\\Local\\Programs\\Python\\Python312\\Lib\\site-packages\\manim\\scene\\scene_file_writer.py\u001b\\\u001b[2mscene_file_writer.py\u001b[0m\u001b]8;;\u001b\\\u001b[2m:\u001b[0m\u001b]8;id=387869;file://C:\\Users\\anoop\\AppData\\Local\\Programs\\Python\\Python312\\Lib\\site-packages\\manim\\scene\\scene_file_writer.py#527\u001b\\\u001b[2m527\u001b[0m\u001b]8;;\u001b\\\n",
       "\u001b[2;36m                    \u001b[0m         \u001b[32m'C:\\Users\\anoop\\OneDrive\\Desktop\\Simple \u001b[0m                      \u001b[2m                        \u001b[0m\n",
       "\u001b[2;36m                    \u001b[0m         \u001b[32mProjects\\manim_pythagoras_theorem\\media\\videos\\manim_pythagor\u001b[0m \u001b[2m                        \u001b[0m\n",
       "\u001b[2;36m                    \u001b[0m         \u001b[32mas_theorem\\480p15\\partial_movie_files\\PythagoreanTheorem\\6246\u001b[0m \u001b[2m                        \u001b[0m\n",
       "\u001b[2;36m                    \u001b[0m         \u001b[32m42324_1132283278_984261921.mp4'\u001b[0m                               \u001b[2m                        \u001b[0m\n"
      ]
     },
     "metadata": {},
     "output_type": "display_data"
    },
    {
     "name": "stderr",
     "output_type": "stream",
     "text": [
      "                                                                                                                       \r"
     ]
    },
    {
     "data": {
      "text/html": [
       "<pre style=\"white-space:pre;overflow-x:auto;line-height:normal;font-family:Menlo,'DejaVu Sans Mono',consolas,'Courier New',monospace\"><span style=\"color: #7fbfbf; text-decoration-color: #7fbfbf\">                    </span><span style=\"color: #008000; text-decoration-color: #008000\">INFO    </span> Animation <span style=\"color: #008000; text-decoration-color: #008000\">24</span> : Partial movie file written in                  <a href=\"file://C:\\Users\\anoop\\AppData\\Local\\Programs\\Python\\Python312\\Lib\\site-packages\\manim\\scene\\scene_file_writer.py\" target=\"_blank\"><span style=\"color: #7f7f7f; text-decoration-color: #7f7f7f\">scene_file_writer.py</span></a><span style=\"color: #7f7f7f; text-decoration-color: #7f7f7f\">:</span><a href=\"file://C:\\Users\\anoop\\AppData\\Local\\Programs\\Python\\Python312\\Lib\\site-packages\\manim\\scene\\scene_file_writer.py#527\" target=\"_blank\"><span style=\"color: #7f7f7f; text-decoration-color: #7f7f7f\">527</span></a>\n",
       "<span style=\"color: #7fbfbf; text-decoration-color: #7fbfbf\">                    </span>         <span style=\"color: #008000; text-decoration-color: #008000\">'C:\\Users\\anoop\\OneDrive\\Desktop\\Simple </span>                      <span style=\"color: #7f7f7f; text-decoration-color: #7f7f7f\">                        </span>\n",
       "<span style=\"color: #7fbfbf; text-decoration-color: #7fbfbf\">                    </span>         <span style=\"color: #008000; text-decoration-color: #008000\">Projects\\manim_pythagoras_theorem\\media\\videos\\manim_pythagor</span> <span style=\"color: #7f7f7f; text-decoration-color: #7f7f7f\">                        </span>\n",
       "<span style=\"color: #7fbfbf; text-decoration-color: #7fbfbf\">                    </span>         <span style=\"color: #008000; text-decoration-color: #008000\">as_theorem\\480p15\\partial_movie_files\\PythagoreanTheorem\\6246</span> <span style=\"color: #7f7f7f; text-decoration-color: #7f7f7f\">                        </span>\n",
       "<span style=\"color: #7fbfbf; text-decoration-color: #7fbfbf\">                    </span>         <span style=\"color: #008000; text-decoration-color: #008000\">42324_2318136983_475647261.mp4'</span>                               <span style=\"color: #7f7f7f; text-decoration-color: #7f7f7f\">                        </span>\n",
       "</pre>\n"
      ],
      "text/plain": [
       "\u001b[2;36m                   \u001b[0m\u001b[2;36m \u001b[0m\u001b[32mINFO    \u001b[0m Animation \u001b[32m24\u001b[0m : Partial movie file written in                  \u001b]8;id=171224;file://C:\\Users\\anoop\\AppData\\Local\\Programs\\Python\\Python312\\Lib\\site-packages\\manim\\scene\\scene_file_writer.py\u001b\\\u001b[2mscene_file_writer.py\u001b[0m\u001b]8;;\u001b\\\u001b[2m:\u001b[0m\u001b]8;id=176599;file://C:\\Users\\anoop\\AppData\\Local\\Programs\\Python\\Python312\\Lib\\site-packages\\manim\\scene\\scene_file_writer.py#527\u001b\\\u001b[2m527\u001b[0m\u001b]8;;\u001b\\\n",
       "\u001b[2;36m                    \u001b[0m         \u001b[32m'C:\\Users\\anoop\\OneDrive\\Desktop\\Simple \u001b[0m                      \u001b[2m                        \u001b[0m\n",
       "\u001b[2;36m                    \u001b[0m         \u001b[32mProjects\\manim_pythagoras_theorem\\media\\videos\\manim_pythagor\u001b[0m \u001b[2m                        \u001b[0m\n",
       "\u001b[2;36m                    \u001b[0m         \u001b[32mas_theorem\\480p15\\partial_movie_files\\PythagoreanTheorem\\6246\u001b[0m \u001b[2m                        \u001b[0m\n",
       "\u001b[2;36m                    \u001b[0m         \u001b[32m42324_2318136983_475647261.mp4'\u001b[0m                               \u001b[2m                        \u001b[0m\n"
      ]
     },
     "metadata": {},
     "output_type": "display_data"
    },
    {
     "name": "stderr",
     "output_type": "stream",
     "text": [
      "                                                                                                                       \r"
     ]
    },
    {
     "data": {
      "text/html": [
       "<pre style=\"white-space:pre;overflow-x:auto;line-height:normal;font-family:Menlo,'DejaVu Sans Mono',consolas,'Courier New',monospace\"><span style=\"color: #7fbfbf; text-decoration-color: #7fbfbf\">[10/28/24 09:54:56] </span><span style=\"color: #008000; text-decoration-color: #008000\">INFO    </span> Animation <span style=\"color: #008000; text-decoration-color: #008000\">25</span> : Partial movie file written in                  <a href=\"file://C:\\Users\\anoop\\AppData\\Local\\Programs\\Python\\Python312\\Lib\\site-packages\\manim\\scene\\scene_file_writer.py\" target=\"_blank\"><span style=\"color: #7f7f7f; text-decoration-color: #7f7f7f\">scene_file_writer.py</span></a><span style=\"color: #7f7f7f; text-decoration-color: #7f7f7f\">:</span><a href=\"file://C:\\Users\\anoop\\AppData\\Local\\Programs\\Python\\Python312\\Lib\\site-packages\\manim\\scene\\scene_file_writer.py#527\" target=\"_blank\"><span style=\"color: #7f7f7f; text-decoration-color: #7f7f7f\">527</span></a>\n",
       "<span style=\"color: #7fbfbf; text-decoration-color: #7fbfbf\">                    </span>         <span style=\"color: #008000; text-decoration-color: #008000\">'C:\\Users\\anoop\\OneDrive\\Desktop\\Simple </span>                      <span style=\"color: #7f7f7f; text-decoration-color: #7f7f7f\">                        </span>\n",
       "<span style=\"color: #7fbfbf; text-decoration-color: #7fbfbf\">                    </span>         <span style=\"color: #008000; text-decoration-color: #008000\">Projects\\manim_pythagoras_theorem\\media\\videos\\manim_pythagor</span> <span style=\"color: #7f7f7f; text-decoration-color: #7f7f7f\">                        </span>\n",
       "<span style=\"color: #7fbfbf; text-decoration-color: #7fbfbf\">                    </span>         <span style=\"color: #008000; text-decoration-color: #008000\">as_theorem\\480p15\\partial_movie_files\\PythagoreanTheorem\\6246</span> <span style=\"color: #7f7f7f; text-decoration-color: #7f7f7f\">                        </span>\n",
       "<span style=\"color: #7fbfbf; text-decoration-color: #7fbfbf\">                    </span>         <span style=\"color: #008000; text-decoration-color: #008000\">42324_591585252_2110401449.mp4'</span>                               <span style=\"color: #7f7f7f; text-decoration-color: #7f7f7f\">                        </span>\n",
       "</pre>\n"
      ],
      "text/plain": [
       "\u001b[2;36m[10/28/24 09:54:56]\u001b[0m\u001b[2;36m \u001b[0m\u001b[32mINFO    \u001b[0m Animation \u001b[32m25\u001b[0m : Partial movie file written in                  \u001b]8;id=467114;file://C:\\Users\\anoop\\AppData\\Local\\Programs\\Python\\Python312\\Lib\\site-packages\\manim\\scene\\scene_file_writer.py\u001b\\\u001b[2mscene_file_writer.py\u001b[0m\u001b]8;;\u001b\\\u001b[2m:\u001b[0m\u001b]8;id=948623;file://C:\\Users\\anoop\\AppData\\Local\\Programs\\Python\\Python312\\Lib\\site-packages\\manim\\scene\\scene_file_writer.py#527\u001b\\\u001b[2m527\u001b[0m\u001b]8;;\u001b\\\n",
       "\u001b[2;36m                    \u001b[0m         \u001b[32m'C:\\Users\\anoop\\OneDrive\\Desktop\\Simple \u001b[0m                      \u001b[2m                        \u001b[0m\n",
       "\u001b[2;36m                    \u001b[0m         \u001b[32mProjects\\manim_pythagoras_theorem\\media\\videos\\manim_pythagor\u001b[0m \u001b[2m                        \u001b[0m\n",
       "\u001b[2;36m                    \u001b[0m         \u001b[32mas_theorem\\480p15\\partial_movie_files\\PythagoreanTheorem\\6246\u001b[0m \u001b[2m                        \u001b[0m\n",
       "\u001b[2;36m                    \u001b[0m         \u001b[32m42324_591585252_2110401449.mp4'\u001b[0m                               \u001b[2m                        \u001b[0m\n"
      ]
     },
     "metadata": {},
     "output_type": "display_data"
    },
    {
     "name": "stderr",
     "output_type": "stream",
     "text": [
      "                                                                                                                       \r"
     ]
    },
    {
     "data": {
      "text/html": [
       "<pre style=\"white-space:pre;overflow-x:auto;line-height:normal;font-family:Menlo,'DejaVu Sans Mono',consolas,'Courier New',monospace\"><span style=\"color: #7fbfbf; text-decoration-color: #7fbfbf\">                    </span><span style=\"color: #008000; text-decoration-color: #008000\">INFO    </span> Animation <span style=\"color: #008000; text-decoration-color: #008000\">26</span> : Partial movie file written in                  <a href=\"file://C:\\Users\\anoop\\AppData\\Local\\Programs\\Python\\Python312\\Lib\\site-packages\\manim\\scene\\scene_file_writer.py\" target=\"_blank\"><span style=\"color: #7f7f7f; text-decoration-color: #7f7f7f\">scene_file_writer.py</span></a><span style=\"color: #7f7f7f; text-decoration-color: #7f7f7f\">:</span><a href=\"file://C:\\Users\\anoop\\AppData\\Local\\Programs\\Python\\Python312\\Lib\\site-packages\\manim\\scene\\scene_file_writer.py#527\" target=\"_blank\"><span style=\"color: #7f7f7f; text-decoration-color: #7f7f7f\">527</span></a>\n",
       "<span style=\"color: #7fbfbf; text-decoration-color: #7fbfbf\">                    </span>         <span style=\"color: #008000; text-decoration-color: #008000\">'C:\\Users\\anoop\\OneDrive\\Desktop\\Simple </span>                      <span style=\"color: #7f7f7f; text-decoration-color: #7f7f7f\">                        </span>\n",
       "<span style=\"color: #7fbfbf; text-decoration-color: #7fbfbf\">                    </span>         <span style=\"color: #008000; text-decoration-color: #008000\">Projects\\manim_pythagoras_theorem\\media\\videos\\manim_pythagor</span> <span style=\"color: #7f7f7f; text-decoration-color: #7f7f7f\">                        </span>\n",
       "<span style=\"color: #7fbfbf; text-decoration-color: #7fbfbf\">                    </span>         <span style=\"color: #008000; text-decoration-color: #008000\">as_theorem\\480p15\\partial_movie_files\\PythagoreanTheorem\\6246</span> <span style=\"color: #7f7f7f; text-decoration-color: #7f7f7f\">                        </span>\n",
       "<span style=\"color: #7fbfbf; text-decoration-color: #7fbfbf\">                    </span>         <span style=\"color: #008000; text-decoration-color: #008000\">42324_1520813863_2764833157.mp4'</span>                              <span style=\"color: #7f7f7f; text-decoration-color: #7f7f7f\">                        </span>\n",
       "</pre>\n"
      ],
      "text/plain": [
       "\u001b[2;36m                   \u001b[0m\u001b[2;36m \u001b[0m\u001b[32mINFO    \u001b[0m Animation \u001b[32m26\u001b[0m : Partial movie file written in                  \u001b]8;id=395837;file://C:\\Users\\anoop\\AppData\\Local\\Programs\\Python\\Python312\\Lib\\site-packages\\manim\\scene\\scene_file_writer.py\u001b\\\u001b[2mscene_file_writer.py\u001b[0m\u001b]8;;\u001b\\\u001b[2m:\u001b[0m\u001b]8;id=438448;file://C:\\Users\\anoop\\AppData\\Local\\Programs\\Python\\Python312\\Lib\\site-packages\\manim\\scene\\scene_file_writer.py#527\u001b\\\u001b[2m527\u001b[0m\u001b]8;;\u001b\\\n",
       "\u001b[2;36m                    \u001b[0m         \u001b[32m'C:\\Users\\anoop\\OneDrive\\Desktop\\Simple \u001b[0m                      \u001b[2m                        \u001b[0m\n",
       "\u001b[2;36m                    \u001b[0m         \u001b[32mProjects\\manim_pythagoras_theorem\\media\\videos\\manim_pythagor\u001b[0m \u001b[2m                        \u001b[0m\n",
       "\u001b[2;36m                    \u001b[0m         \u001b[32mas_theorem\\480p15\\partial_movie_files\\PythagoreanTheorem\\6246\u001b[0m \u001b[2m                        \u001b[0m\n",
       "\u001b[2;36m                    \u001b[0m         \u001b[32m42324_1520813863_2764833157.mp4'\u001b[0m                              \u001b[2m                        \u001b[0m\n"
      ]
     },
     "metadata": {},
     "output_type": "display_data"
    },
    {
     "name": "stderr",
     "output_type": "stream",
     "text": [
      "                                                                                                                       \r"
     ]
    },
    {
     "data": {
      "text/html": [
       "<pre style=\"white-space:pre;overflow-x:auto;line-height:normal;font-family:Menlo,'DejaVu Sans Mono',consolas,'Courier New',monospace\"><span style=\"color: #7fbfbf; text-decoration-color: #7fbfbf\">[10/28/24 09:54:57] </span><span style=\"color: #008000; text-decoration-color: #008000\">INFO    </span> Animation <span style=\"color: #008000; text-decoration-color: #008000\">27</span> : Partial movie file written in                  <a href=\"file://C:\\Users\\anoop\\AppData\\Local\\Programs\\Python\\Python312\\Lib\\site-packages\\manim\\scene\\scene_file_writer.py\" target=\"_blank\"><span style=\"color: #7f7f7f; text-decoration-color: #7f7f7f\">scene_file_writer.py</span></a><span style=\"color: #7f7f7f; text-decoration-color: #7f7f7f\">:</span><a href=\"file://C:\\Users\\anoop\\AppData\\Local\\Programs\\Python\\Python312\\Lib\\site-packages\\manim\\scene\\scene_file_writer.py#527\" target=\"_blank\"><span style=\"color: #7f7f7f; text-decoration-color: #7f7f7f\">527</span></a>\n",
       "<span style=\"color: #7fbfbf; text-decoration-color: #7fbfbf\">                    </span>         <span style=\"color: #008000; text-decoration-color: #008000\">'C:\\Users\\anoop\\OneDrive\\Desktop\\Simple </span>                      <span style=\"color: #7f7f7f; text-decoration-color: #7f7f7f\">                        </span>\n",
       "<span style=\"color: #7fbfbf; text-decoration-color: #7fbfbf\">                    </span>         <span style=\"color: #008000; text-decoration-color: #008000\">Projects\\manim_pythagoras_theorem\\media\\videos\\manim_pythagor</span> <span style=\"color: #7f7f7f; text-decoration-color: #7f7f7f\">                        </span>\n",
       "<span style=\"color: #7fbfbf; text-decoration-color: #7fbfbf\">                    </span>         <span style=\"color: #008000; text-decoration-color: #008000\">as_theorem\\480p15\\partial_movie_files\\PythagoreanTheorem\\6246</span> <span style=\"color: #7f7f7f; text-decoration-color: #7f7f7f\">                        </span>\n",
       "<span style=\"color: #7fbfbf; text-decoration-color: #7fbfbf\">                    </span>         <span style=\"color: #008000; text-decoration-color: #008000\">42324_4173876313_2970594801.mp4'</span>                              <span style=\"color: #7f7f7f; text-decoration-color: #7f7f7f\">                        </span>\n",
       "</pre>\n"
      ],
      "text/plain": [
       "\u001b[2;36m[10/28/24 09:54:57]\u001b[0m\u001b[2;36m \u001b[0m\u001b[32mINFO    \u001b[0m Animation \u001b[32m27\u001b[0m : Partial movie file written in                  \u001b]8;id=552062;file://C:\\Users\\anoop\\AppData\\Local\\Programs\\Python\\Python312\\Lib\\site-packages\\manim\\scene\\scene_file_writer.py\u001b\\\u001b[2mscene_file_writer.py\u001b[0m\u001b]8;;\u001b\\\u001b[2m:\u001b[0m\u001b]8;id=267443;file://C:\\Users\\anoop\\AppData\\Local\\Programs\\Python\\Python312\\Lib\\site-packages\\manim\\scene\\scene_file_writer.py#527\u001b\\\u001b[2m527\u001b[0m\u001b]8;;\u001b\\\n",
       "\u001b[2;36m                    \u001b[0m         \u001b[32m'C:\\Users\\anoop\\OneDrive\\Desktop\\Simple \u001b[0m                      \u001b[2m                        \u001b[0m\n",
       "\u001b[2;36m                    \u001b[0m         \u001b[32mProjects\\manim_pythagoras_theorem\\media\\videos\\manim_pythagor\u001b[0m \u001b[2m                        \u001b[0m\n",
       "\u001b[2;36m                    \u001b[0m         \u001b[32mas_theorem\\480p15\\partial_movie_files\\PythagoreanTheorem\\6246\u001b[0m \u001b[2m                        \u001b[0m\n",
       "\u001b[2;36m                    \u001b[0m         \u001b[32m42324_4173876313_2970594801.mp4'\u001b[0m                              \u001b[2m                        \u001b[0m\n"
      ]
     },
     "metadata": {},
     "output_type": "display_data"
    },
    {
     "name": "stderr",
     "output_type": "stream",
     "text": [
      "                                                                                                                       \r"
     ]
    },
    {
     "data": {
      "text/html": [
       "<pre style=\"white-space:pre;overflow-x:auto;line-height:normal;font-family:Menlo,'DejaVu Sans Mono',consolas,'Courier New',monospace\"><span style=\"color: #7fbfbf; text-decoration-color: #7fbfbf\">[10/28/24 09:54:58] </span><span style=\"color: #008000; text-decoration-color: #008000\">INFO    </span> Animation <span style=\"color: #008000; text-decoration-color: #008000\">28</span> : Partial movie file written in                  <a href=\"file://C:\\Users\\anoop\\AppData\\Local\\Programs\\Python\\Python312\\Lib\\site-packages\\manim\\scene\\scene_file_writer.py\" target=\"_blank\"><span style=\"color: #7f7f7f; text-decoration-color: #7f7f7f\">scene_file_writer.py</span></a><span style=\"color: #7f7f7f; text-decoration-color: #7f7f7f\">:</span><a href=\"file://C:\\Users\\anoop\\AppData\\Local\\Programs\\Python\\Python312\\Lib\\site-packages\\manim\\scene\\scene_file_writer.py#527\" target=\"_blank\"><span style=\"color: #7f7f7f; text-decoration-color: #7f7f7f\">527</span></a>\n",
       "<span style=\"color: #7fbfbf; text-decoration-color: #7fbfbf\">                    </span>         <span style=\"color: #008000; text-decoration-color: #008000\">'C:\\Users\\anoop\\OneDrive\\Desktop\\Simple </span>                      <span style=\"color: #7f7f7f; text-decoration-color: #7f7f7f\">                        </span>\n",
       "<span style=\"color: #7fbfbf; text-decoration-color: #7fbfbf\">                    </span>         <span style=\"color: #008000; text-decoration-color: #008000\">Projects\\manim_pythagoras_theorem\\media\\videos\\manim_pythagor</span> <span style=\"color: #7f7f7f; text-decoration-color: #7f7f7f\">                        </span>\n",
       "<span style=\"color: #7fbfbf; text-decoration-color: #7fbfbf\">                    </span>         <span style=\"color: #008000; text-decoration-color: #008000\">as_theorem\\480p15\\partial_movie_files\\PythagoreanTheorem\\6246</span> <span style=\"color: #7f7f7f; text-decoration-color: #7f7f7f\">                        </span>\n",
       "<span style=\"color: #7fbfbf; text-decoration-color: #7fbfbf\">                    </span>         <span style=\"color: #008000; text-decoration-color: #008000\">42324_1040606922_20986479.mp4'</span>                                <span style=\"color: #7f7f7f; text-decoration-color: #7f7f7f\">                        </span>\n",
       "</pre>\n"
      ],
      "text/plain": [
       "\u001b[2;36m[10/28/24 09:54:58]\u001b[0m\u001b[2;36m \u001b[0m\u001b[32mINFO    \u001b[0m Animation \u001b[32m28\u001b[0m : Partial movie file written in                  \u001b]8;id=503843;file://C:\\Users\\anoop\\AppData\\Local\\Programs\\Python\\Python312\\Lib\\site-packages\\manim\\scene\\scene_file_writer.py\u001b\\\u001b[2mscene_file_writer.py\u001b[0m\u001b]8;;\u001b\\\u001b[2m:\u001b[0m\u001b]8;id=721010;file://C:\\Users\\anoop\\AppData\\Local\\Programs\\Python\\Python312\\Lib\\site-packages\\manim\\scene\\scene_file_writer.py#527\u001b\\\u001b[2m527\u001b[0m\u001b]8;;\u001b\\\n",
       "\u001b[2;36m                    \u001b[0m         \u001b[32m'C:\\Users\\anoop\\OneDrive\\Desktop\\Simple \u001b[0m                      \u001b[2m                        \u001b[0m\n",
       "\u001b[2;36m                    \u001b[0m         \u001b[32mProjects\\manim_pythagoras_theorem\\media\\videos\\manim_pythagor\u001b[0m \u001b[2m                        \u001b[0m\n",
       "\u001b[2;36m                    \u001b[0m         \u001b[32mas_theorem\\480p15\\partial_movie_files\\PythagoreanTheorem\\6246\u001b[0m \u001b[2m                        \u001b[0m\n",
       "\u001b[2;36m                    \u001b[0m         \u001b[32m42324_1040606922_20986479.mp4'\u001b[0m                                \u001b[2m                        \u001b[0m\n"
      ]
     },
     "metadata": {},
     "output_type": "display_data"
    },
    {
     "name": "stderr",
     "output_type": "stream",
     "text": [
      "                                                                                                                       \r"
     ]
    },
    {
     "data": {
      "text/html": [
       "<pre style=\"white-space:pre;overflow-x:auto;line-height:normal;font-family:Menlo,'DejaVu Sans Mono',consolas,'Courier New',monospace\"><span style=\"color: #7fbfbf; text-decoration-color: #7fbfbf\">                    </span><span style=\"color: #008000; text-decoration-color: #008000\">INFO    </span> Animation <span style=\"color: #008000; text-decoration-color: #008000\">29</span> : Partial movie file written in                  <a href=\"file://C:\\Users\\anoop\\AppData\\Local\\Programs\\Python\\Python312\\Lib\\site-packages\\manim\\scene\\scene_file_writer.py\" target=\"_blank\"><span style=\"color: #7f7f7f; text-decoration-color: #7f7f7f\">scene_file_writer.py</span></a><span style=\"color: #7f7f7f; text-decoration-color: #7f7f7f\">:</span><a href=\"file://C:\\Users\\anoop\\AppData\\Local\\Programs\\Python\\Python312\\Lib\\site-packages\\manim\\scene\\scene_file_writer.py#527\" target=\"_blank\"><span style=\"color: #7f7f7f; text-decoration-color: #7f7f7f\">527</span></a>\n",
       "<span style=\"color: #7fbfbf; text-decoration-color: #7fbfbf\">                    </span>         <span style=\"color: #008000; text-decoration-color: #008000\">'C:\\Users\\anoop\\OneDrive\\Desktop\\Simple </span>                      <span style=\"color: #7f7f7f; text-decoration-color: #7f7f7f\">                        </span>\n",
       "<span style=\"color: #7fbfbf; text-decoration-color: #7fbfbf\">                    </span>         <span style=\"color: #008000; text-decoration-color: #008000\">Projects\\manim_pythagoras_theorem\\media\\videos\\manim_pythagor</span> <span style=\"color: #7f7f7f; text-decoration-color: #7f7f7f\">                        </span>\n",
       "<span style=\"color: #7fbfbf; text-decoration-color: #7fbfbf\">                    </span>         <span style=\"color: #008000; text-decoration-color: #008000\">as_theorem\\480p15\\partial_movie_files\\PythagoreanTheorem\\6246</span> <span style=\"color: #7f7f7f; text-decoration-color: #7f7f7f\">                        </span>\n",
       "<span style=\"color: #7fbfbf; text-decoration-color: #7fbfbf\">                    </span>         <span style=\"color: #008000; text-decoration-color: #008000\">42324_2090601257_3153581724.mp4'</span>                              <span style=\"color: #7f7f7f; text-decoration-color: #7f7f7f\">                        </span>\n",
       "</pre>\n"
      ],
      "text/plain": [
       "\u001b[2;36m                   \u001b[0m\u001b[2;36m \u001b[0m\u001b[32mINFO    \u001b[0m Animation \u001b[32m29\u001b[0m : Partial movie file written in                  \u001b]8;id=609010;file://C:\\Users\\anoop\\AppData\\Local\\Programs\\Python\\Python312\\Lib\\site-packages\\manim\\scene\\scene_file_writer.py\u001b\\\u001b[2mscene_file_writer.py\u001b[0m\u001b]8;;\u001b\\\u001b[2m:\u001b[0m\u001b]8;id=390426;file://C:\\Users\\anoop\\AppData\\Local\\Programs\\Python\\Python312\\Lib\\site-packages\\manim\\scene\\scene_file_writer.py#527\u001b\\\u001b[2m527\u001b[0m\u001b]8;;\u001b\\\n",
       "\u001b[2;36m                    \u001b[0m         \u001b[32m'C:\\Users\\anoop\\OneDrive\\Desktop\\Simple \u001b[0m                      \u001b[2m                        \u001b[0m\n",
       "\u001b[2;36m                    \u001b[0m         \u001b[32mProjects\\manim_pythagoras_theorem\\media\\videos\\manim_pythagor\u001b[0m \u001b[2m                        \u001b[0m\n",
       "\u001b[2;36m                    \u001b[0m         \u001b[32mas_theorem\\480p15\\partial_movie_files\\PythagoreanTheorem\\6246\u001b[0m \u001b[2m                        \u001b[0m\n",
       "\u001b[2;36m                    \u001b[0m         \u001b[32m42324_2090601257_3153581724.mp4'\u001b[0m                              \u001b[2m                        \u001b[0m\n"
      ]
     },
     "metadata": {},
     "output_type": "display_data"
    },
    {
     "name": "stderr",
     "output_type": "stream",
     "text": [
      "                                                                                                                       \r"
     ]
    },
    {
     "data": {
      "text/html": [
       "<pre style=\"white-space:pre;overflow-x:auto;line-height:normal;font-family:Menlo,'DejaVu Sans Mono',consolas,'Courier New',monospace\"><span style=\"color: #7fbfbf; text-decoration-color: #7fbfbf\">[10/28/24 09:54:59] </span><span style=\"color: #008000; text-decoration-color: #008000\">INFO    </span> Animation <span style=\"color: #008000; text-decoration-color: #008000\">30</span> : Partial movie file written in                  <a href=\"file://C:\\Users\\anoop\\AppData\\Local\\Programs\\Python\\Python312\\Lib\\site-packages\\manim\\scene\\scene_file_writer.py\" target=\"_blank\"><span style=\"color: #7f7f7f; text-decoration-color: #7f7f7f\">scene_file_writer.py</span></a><span style=\"color: #7f7f7f; text-decoration-color: #7f7f7f\">:</span><a href=\"file://C:\\Users\\anoop\\AppData\\Local\\Programs\\Python\\Python312\\Lib\\site-packages\\manim\\scene\\scene_file_writer.py#527\" target=\"_blank\"><span style=\"color: #7f7f7f; text-decoration-color: #7f7f7f\">527</span></a>\n",
       "<span style=\"color: #7fbfbf; text-decoration-color: #7fbfbf\">                    </span>         <span style=\"color: #008000; text-decoration-color: #008000\">'C:\\Users\\anoop\\OneDrive\\Desktop\\Simple </span>                      <span style=\"color: #7f7f7f; text-decoration-color: #7f7f7f\">                        </span>\n",
       "<span style=\"color: #7fbfbf; text-decoration-color: #7fbfbf\">                    </span>         <span style=\"color: #008000; text-decoration-color: #008000\">Projects\\manim_pythagoras_theorem\\media\\videos\\manim_pythagor</span> <span style=\"color: #7f7f7f; text-decoration-color: #7f7f7f\">                        </span>\n",
       "<span style=\"color: #7fbfbf; text-decoration-color: #7fbfbf\">                    </span>         <span style=\"color: #008000; text-decoration-color: #008000\">as_theorem\\480p15\\partial_movie_files\\PythagoreanTheorem\\6246</span> <span style=\"color: #7f7f7f; text-decoration-color: #7f7f7f\">                        </span>\n",
       "<span style=\"color: #7fbfbf; text-decoration-color: #7fbfbf\">                    </span>         <span style=\"color: #008000; text-decoration-color: #008000\">42324_2980163638_3977105827.mp4'</span>                              <span style=\"color: #7f7f7f; text-decoration-color: #7f7f7f\">                        </span>\n",
       "</pre>\n"
      ],
      "text/plain": [
       "\u001b[2;36m[10/28/24 09:54:59]\u001b[0m\u001b[2;36m \u001b[0m\u001b[32mINFO    \u001b[0m Animation \u001b[32m30\u001b[0m : Partial movie file written in                  \u001b]8;id=230911;file://C:\\Users\\anoop\\AppData\\Local\\Programs\\Python\\Python312\\Lib\\site-packages\\manim\\scene\\scene_file_writer.py\u001b\\\u001b[2mscene_file_writer.py\u001b[0m\u001b]8;;\u001b\\\u001b[2m:\u001b[0m\u001b]8;id=810366;file://C:\\Users\\anoop\\AppData\\Local\\Programs\\Python\\Python312\\Lib\\site-packages\\manim\\scene\\scene_file_writer.py#527\u001b\\\u001b[2m527\u001b[0m\u001b]8;;\u001b\\\n",
       "\u001b[2;36m                    \u001b[0m         \u001b[32m'C:\\Users\\anoop\\OneDrive\\Desktop\\Simple \u001b[0m                      \u001b[2m                        \u001b[0m\n",
       "\u001b[2;36m                    \u001b[0m         \u001b[32mProjects\\manim_pythagoras_theorem\\media\\videos\\manim_pythagor\u001b[0m \u001b[2m                        \u001b[0m\n",
       "\u001b[2;36m                    \u001b[0m         \u001b[32mas_theorem\\480p15\\partial_movie_files\\PythagoreanTheorem\\6246\u001b[0m \u001b[2m                        \u001b[0m\n",
       "\u001b[2;36m                    \u001b[0m         \u001b[32m42324_2980163638_3977105827.mp4'\u001b[0m                              \u001b[2m                        \u001b[0m\n"
      ]
     },
     "metadata": {},
     "output_type": "display_data"
    },
    {
     "name": "stderr",
     "output_type": "stream",
     "text": [
      "                                                                                                                       \r"
     ]
    },
    {
     "data": {
      "text/html": [
       "<pre style=\"white-space:pre;overflow-x:auto;line-height:normal;font-family:Menlo,'DejaVu Sans Mono',consolas,'Courier New',monospace\"><span style=\"color: #7fbfbf; text-decoration-color: #7fbfbf\">                    </span><span style=\"color: #008000; text-decoration-color: #008000\">INFO    </span> Animation <span style=\"color: #008000; text-decoration-color: #008000\">31</span> : Partial movie file written in                  <a href=\"file://C:\\Users\\anoop\\AppData\\Local\\Programs\\Python\\Python312\\Lib\\site-packages\\manim\\scene\\scene_file_writer.py\" target=\"_blank\"><span style=\"color: #7f7f7f; text-decoration-color: #7f7f7f\">scene_file_writer.py</span></a><span style=\"color: #7f7f7f; text-decoration-color: #7f7f7f\">:</span><a href=\"file://C:\\Users\\anoop\\AppData\\Local\\Programs\\Python\\Python312\\Lib\\site-packages\\manim\\scene\\scene_file_writer.py#527\" target=\"_blank\"><span style=\"color: #7f7f7f; text-decoration-color: #7f7f7f\">527</span></a>\n",
       "<span style=\"color: #7fbfbf; text-decoration-color: #7fbfbf\">                    </span>         <span style=\"color: #008000; text-decoration-color: #008000\">'C:\\Users\\anoop\\OneDrive\\Desktop\\Simple </span>                      <span style=\"color: #7f7f7f; text-decoration-color: #7f7f7f\">                        </span>\n",
       "<span style=\"color: #7fbfbf; text-decoration-color: #7fbfbf\">                    </span>         <span style=\"color: #008000; text-decoration-color: #008000\">Projects\\manim_pythagoras_theorem\\media\\videos\\manim_pythagor</span> <span style=\"color: #7f7f7f; text-decoration-color: #7f7f7f\">                        </span>\n",
       "<span style=\"color: #7fbfbf; text-decoration-color: #7fbfbf\">                    </span>         <span style=\"color: #008000; text-decoration-color: #008000\">as_theorem\\480p15\\partial_movie_files\\PythagoreanTheorem\\6246</span> <span style=\"color: #7f7f7f; text-decoration-color: #7f7f7f\">                        </span>\n",
       "<span style=\"color: #7fbfbf; text-decoration-color: #7fbfbf\">                    </span>         <span style=\"color: #008000; text-decoration-color: #008000\">42324_917822060_2667676110.mp4'</span>                               <span style=\"color: #7f7f7f; text-decoration-color: #7f7f7f\">                        </span>\n",
       "</pre>\n"
      ],
      "text/plain": [
       "\u001b[2;36m                   \u001b[0m\u001b[2;36m \u001b[0m\u001b[32mINFO    \u001b[0m Animation \u001b[32m31\u001b[0m : Partial movie file written in                  \u001b]8;id=533329;file://C:\\Users\\anoop\\AppData\\Local\\Programs\\Python\\Python312\\Lib\\site-packages\\manim\\scene\\scene_file_writer.py\u001b\\\u001b[2mscene_file_writer.py\u001b[0m\u001b]8;;\u001b\\\u001b[2m:\u001b[0m\u001b]8;id=812956;file://C:\\Users\\anoop\\AppData\\Local\\Programs\\Python\\Python312\\Lib\\site-packages\\manim\\scene\\scene_file_writer.py#527\u001b\\\u001b[2m527\u001b[0m\u001b]8;;\u001b\\\n",
       "\u001b[2;36m                    \u001b[0m         \u001b[32m'C:\\Users\\anoop\\OneDrive\\Desktop\\Simple \u001b[0m                      \u001b[2m                        \u001b[0m\n",
       "\u001b[2;36m                    \u001b[0m         \u001b[32mProjects\\manim_pythagoras_theorem\\media\\videos\\manim_pythagor\u001b[0m \u001b[2m                        \u001b[0m\n",
       "\u001b[2;36m                    \u001b[0m         \u001b[32mas_theorem\\480p15\\partial_movie_files\\PythagoreanTheorem\\6246\u001b[0m \u001b[2m                        \u001b[0m\n",
       "\u001b[2;36m                    \u001b[0m         \u001b[32m42324_917822060_2667676110.mp4'\u001b[0m                               \u001b[2m                        \u001b[0m\n"
      ]
     },
     "metadata": {},
     "output_type": "display_data"
    }
   ],
   "source": [
    "%%manim -ql -p PythagoreanTheorem \n",
    "import numpy as np\n",
    "from manim import *\n",
    "\n",
    "class PythagoreanTheorem(Scene):\n",
    "    def construct(self):\n",
    "         # Create the triangle with vertices at scaled coordinates\n",
    "        scale_factor = 0.5  # Adjust this value to change the size of the triangle\n",
    "        A = np.array([0, 0, 0]) * scale_factor  # Vertex A (0, 0)\n",
    "        B = np.array([0, 4, 0]) * scale_factor  # Vertex B (0, 4)\n",
    "        C = np.array([3, 0, 0]) * scale_factor  # Vertex C (3, 0)\n",
    "\n",
    "        triangle = Polygon(A, B, C, fill_color=BLUE, fill_opacity=0.5)\n",
    "        triangle.shift(LEFT * 1.5, DOWN * 1)\n",
    "\n",
    "        # Calculate the side lengths for the squares\n",
    "        side_AB_length = np.linalg.norm(B - A)\n",
    "        side_BC_length = np.linalg.norm(C - B)\n",
    "        side_CA_length = np.linalg.norm(A - C)\n",
    "\n",
    "        # Create squares aligned to each triangle side\n",
    "        square_AB = Square(side_length=side_AB_length, fill_color=YELLOW, fill_opacity=0.5)\n",
    "        square_AB.next_to(triangle, LEFT, buff=0)\n",
    "        square_AB.rotate(Line(A, B).get_angle())\n",
    "\n",
    "        square_BC = Square(side_length=side_BC_length, fill_color=GREEN, fill_opacity=0.5)\n",
    "        square_BC.next_to(triangle, RIGHT, buff=0)\n",
    "        square_BC.rotate(Line(B, C).get_angle())\n",
    "        square_BC.shift(UP * 1.2, LEFT * 1.1, DOWN * 0.43, RIGHT * 0.123)\n",
    "\n",
    "        square_CA = Square(side_length=side_CA_length, fill_color=RED, fill_opacity=0.5)\n",
    "        square_CA.next_to(triangle, DOWN, buff=0)\n",
    "        square_CA.rotate(Line(C, A).get_angle())\n",
    "\n",
    "        # Create text labels using MathTex for LaTeX rendering\n",
    "        label_a2 = MathTex(\"a^2\").move_to(square_CA.get_center())\n",
    "        label_b2 = MathTex(\"b^2\").move_to(square_AB.get_center())\n",
    "        label_c2 = MathTex(\"c^2\").move_to(square_BC.get_center())\n",
    "        theorem_text = Text(\"Pythagoras Theorem\").to_edge(UP)\n",
    "        \n",
    "        #equation_text = MathTex(\"a^2 + b^2 = c^2\").next_to(square1, DOWN)\n",
    "\n",
    "        self.play(Write(theorem_text))\n",
    "        # Add triangle and squares to the scene\n",
    "        self.play(Create(triangle))\n",
    "        self.play(Create(square_AB),Create(square_BC),Create(square_CA))\n",
    "        # Play the text animations\n",
    "        self.play(Write(label_a2), Write(label_b2), Write(label_c2))\n",
    "        #self.play(Write(equation_text))\n",
    "\n",
    "        self.wait(2)\n",
    "        \n",
    "        # Function to create a gridded square\n",
    "        def create_gridded_square(center, side_length, divisions, color):\n",
    "            square_group = VGroup()\n",
    "            small_square_length = side_length / divisions\n",
    "            for i in range(divisions):\n",
    "                for j in range(divisions):\n",
    "                    small_square = Square(side_length=small_square_length, fill_color=color, fill_opacity=0.5)\n",
    "                    # Position each small square within the grid\n",
    "                    small_square.move_to(center + np.array([\n",
    "                        (i - divisions / 2 + 0.5) * small_square_length,\n",
    "                        (j - divisions / 2 + 0.5) * small_square_length,\n",
    "                        0\n",
    "                    ]))\n",
    "                    square_group.add(small_square)\n",
    "            return square_group\n",
    "\n",
    "        # Create and align gridded squares for each triangle side\n",
    "        grid_square_AB = create_gridded_square(\n",
    "            center=square_AB.get_center(),\n",
    "            side_length=side_AB_length,\n",
    "            divisions=4,\n",
    "            color=YELLOW\n",
    "        )\n",
    "        grid_square_AB.rotate(Line(A, B).get_angle())\n",
    "\n",
    "        grid_square_BC = create_gridded_square(\n",
    "            center=square_BC.get_center(),\n",
    "            side_length=side_BC_length,\n",
    "            divisions=5,\n",
    "            color=GREEN\n",
    "        )\n",
    "        grid_square_BC.rotate(Line(B, C).get_angle())\n",
    "\n",
    "        grid_square_CA = create_gridded_square(\n",
    "            center=square_CA.get_center(),\n",
    "            side_length=side_CA_length,\n",
    "            divisions=3,\n",
    "            color=RED\n",
    "        )\n",
    "        grid_square_CA.rotate(Line(C, A).get_angle())\n",
    "\n",
    "        # Create plus and minus\n",
    "        plus = Text(\"+\").move_to(((grid_square_AB.get_center() + grid_square_CA.get_center()) / 2) + DOWN * 1.2)\n",
    "        equal = Text(\"=\").move_to((grid_square_BC.get_center() + grid_square_CA.get_center()) / 2 + DOWN * 1.6 + RIGHT*1.6)\n",
    "            \n",
    "        # Fade out the triangle\n",
    "        self.play(FadeOut(triangle))\n",
    "        self.play(Create(grid_square_AB), Create(grid_square_BC), Create(grid_square_CA))\n",
    "        self.play(FadeOut(square_AB),FadeOut(square_BC),FadeOut(square_CA))\n",
    "        \n",
    "        # Animate moving the squares to their new positions\n",
    "        self.play(grid_square_AB.animate.move_to(ORIGIN), grid_square_BC.animate.rotate(np.radians(52)).move_to(RIGHT * 3),  # Move to the right side\n",
    "        grid_square_CA.animate.move_to(LEFT * 3))# Move to the left side\n",
    "        self.play(label_b2.animate.move_to(grid_square_AB.get_center() + DOWN * 2), label_c2.animate.move_to(grid_square_BC.get_center() + DOWN * 2), label_a2.animate.move_to(grid_square_CA.get_center() + DOWN * 2))\n",
    "        \n",
    "        self.wait(1.5)\n",
    "         # Move each small square from the 3x3 grid to fill the top-left 3x3 area of the 5x5 grid\n",
    "        for i in range(3):\n",
    "            for j in range(3):\n",
    "                target_position = grid_square_BC[(4 - i) * 5 + j].get_center()  # Get the target position in the 5x5 grid\n",
    "                self.play(grid_square_CA[i * 3 + j].animate.move_to(target_position), run_time=0.2)\n",
    "\n",
    "         # Move the remaining squares from the 4x4 grid to fill the rest of the 5x5 grid\n",
    "        remaining_positions = [\n",
    "            grid_square_BC[i].get_center()\n",
    "            for i in range(25)\n",
    "            if i not in [(4 - i) * 5 + j for i in range(3) for j in range(3)]\n",
    "        ]\n",
    "        \n",
    "        for i in range(16):\n",
    "            self.play(grid_square_AB[i].animate.move_to(remaining_positions[i]), run_time=0.2)\n",
    "\n",
    "        self.play(Write(plus),Write(equal))\n",
    "        self.wait(2)\n"
   ]
  },
  {
   "cell_type": "markdown",
   "id": "a6639b99-33fe-4ece-8660-6a55475d6ae2",
   "metadata": {},
   "source": [
    "The first line `%%manim -ql -p PythagoreanTheorem` is a magic command used in Jupyter notebooks to run a Manim scene directly from a notebook cell. Here’s a breakdown of what each part means:\n",
    "\n",
    "### Breakdown of the Command:\n",
    "- **`%%manim`**: This is a cell magic command specific to Jupyter notebooks that allows you to execute Manim code within the cell. When you run this cell, it tells Jupyter to process the contents using the Manim library.\n",
    "\n",
    "- **`-ql`**: This stands for \"quality low\". It sets the rendering quality to low for quicker rendering times during development. In Manim, you can specify different quality settings:\n",
    "  - **`-ql`**: Low quality \n",
    "  - **`-qm`**: Medium quality \n",
    "  - **`-qh`**: High quality \n",
    "\n",
    "- **`-p`**: This flag tells Manim to automatically play the rendered video once it's created, opening the video file in your default media player.\n",
    "\n",
    "- **`PythagoreanTheorem`**: This is the name of the scene (class) to render."
   ]
  },
  {
   "cell_type": "code",
   "execution_count": null,
   "id": "e5a68e09-f3d7-417f-8312-0c01685ff2c7",
   "metadata": {},
   "outputs": [],
   "source": []
  }
 ],
 "metadata": {
  "kernelspec": {
   "display_name": "Python 3 (ipykernel)",
   "language": "python",
   "name": "python3"
  },
  "language_info": {
   "codemirror_mode": {
    "name": "ipython",
    "version": 3
   },
   "file_extension": ".py",
   "mimetype": "text/x-python",
   "name": "python",
   "nbconvert_exporter": "python",
   "pygments_lexer": "ipython3",
   "version": "3.12.4"
  }
 },
 "nbformat": 4,
 "nbformat_minor": 5
}
